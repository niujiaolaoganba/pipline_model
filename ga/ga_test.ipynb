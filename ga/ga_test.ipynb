{
 "cells": [
  {
   "cell_type": "code",
   "execution_count": 1,
   "metadata": {
    "collapsed": true
   },
   "outputs": [],
   "source": [
    "import pandas as pd\n",
    "\n",
    "from sklearn.model_selection import train_test_split\n",
    "from sklearn.feature_extraction.text import CountVectorizer\n",
    "from sklearn.pipeline import FeatureUnion\n",
    "from sklearn.model_selection import StratifiedShuffleSplit\n",
    "from sklearn.metrics import roc_auc_score\n",
    "from sklearn2pmml import PMMLPipeline,sklearn2pmml\n",
    "\n",
    "from xgboost import XGBClassifier\n",
    "from xgboost import plot_importance\n",
    "from sklearn2pmml.feature_extraction.text import Splitter\n",
    "\n",
    "\n",
    "from IPython.core.interactiveshell import InteractiveShell\n",
    "InteractiveShell.ast_node_interactivity = \"all\""
   ]
  },
  {
   "cell_type": "code",
   "execution_count": 2,
   "metadata": {},
   "outputs": [
    {
     "data": {
      "text/plain": [
       "(32552,)"
      ]
     },
     "execution_count": 2,
     "metadata": {},
     "output_type": "execute_result"
    },
    {
     "data": {
      "text/plain": [
       "1    23062\n",
       "0     9490\n",
       "Name: is_reg, dtype: int64"
      ]
     },
     "execution_count": 2,
     "metadata": {},
     "output_type": "execute_result"
    }
   ],
   "source": [
    "# 读取数据并定义X， y， 切分train，valid\n",
    "\n",
    "train = pd.read_csv('qz_andr.csv')\n",
    "\n",
    "X = train['tags']\n",
    "y = train['is_reg']\n",
    "\n",
    "X_train, X_test, y_train, y_test = train_test_split(X,y,\n",
    "                                                      stratify=y,\n",
    "                                                      test_size = 0.2,\n",
    "                                                     random_state = 123)\n",
    "X.shape\n",
    "\n",
    "y.value_counts(dropna=False)"
   ]
  },
  {
   "cell_type": "code",
   "execution_count": 4,
   "metadata": {},
   "outputs": [
    {
     "data": {
      "text/plain": [
       "((18228,), (7813,))"
      ]
     },
     "execution_count": 4,
     "metadata": {},
     "output_type": "execute_result"
    }
   ],
   "source": [
    "X_train, X_valid, y_train, y_valid = train_test_split(X_train,y_train,\n",
    "                                                      stratify=y_train,\n",
    "                                                      test_size = 0.3,\n",
    "                                                     random_state = 123)\n",
    "X_train.shape, X_valid.shape"
   ]
  },
  {
   "cell_type": "code",
   "execution_count": 5,
   "metadata": {},
   "outputs": [
    {
     "data": {
      "text/plain": [
       "((18228, 377), (7813, 377), (32552, 377))"
      ]
     },
     "execution_count": 5,
     "metadata": {},
     "output_type": "execute_result"
    }
   ],
   "source": [
    "tag_count = CountVectorizer(tokenizer=Splitter(separator_re=',')).fit(X_train, y_train)\n",
    "\n",
    "features_train = tag_count.transform(X_train).toarray()\n",
    "features_valid = tag_count.transform(X_valid).toarray()\n",
    "features_test = tag_count.transform(X_test).toarray()\n",
    "features = tag_count.transform(X).toarray()\n",
    "\n",
    "# features_train = pd.DataFrame(features_train, columns = tag_count.get_feature_names(), index = y_train.index)\n",
    "# features_valid = pd.DataFrame(features_valid, columns = tag_count.get_feature_names(), index = y_valid.index)\n",
    "# features = pd.DataFrame(features, columns = tag_count.get_feature_names(), index = y.index)\n",
    "\n",
    "features_train.shape, features_valid.shape, features.shape"
   ]
  },
  {
   "cell_type": "code",
   "execution_count": 12,
   "metadata": {},
   "outputs": [
    {
     "data": {
      "text/plain": [
       "LogisticRegression(C=0.03, class_weight=None, dual=False, fit_intercept=True,\n",
       "          intercept_scaling=1, max_iter=200, multi_class='ovr', n_jobs=1,\n",
       "          penalty='l2', random_state=123, solver='liblinear', tol=0.0001,\n",
       "          verbose=0, warm_start=False)"
      ]
     },
     "execution_count": 12,
     "metadata": {},
     "output_type": "execute_result"
    },
    {
     "data": {
      "text/plain": [
       "0.76813233621172095"
      ]
     },
     "execution_count": 12,
     "metadata": {},
     "output_type": "execute_result"
    },
    {
     "data": {
      "text/plain": [
       "0.75031779568600487"
      ]
     },
     "execution_count": 12,
     "metadata": {},
     "output_type": "execute_result"
    },
    {
     "data": {
      "text/plain": [
       "0.75705398702571669"
      ]
     },
     "execution_count": 12,
     "metadata": {},
     "output_type": "execute_result"
    }
   ],
   "source": [
    "clf = LogisticRegression(C=0.03, penalty='l2', max_iter=200, random_state=123)\n",
    "clf.fit(features_train,y_train)\n",
    "roc_auc_score(y_train,clf.predict_proba(features_train)[:,1])\n",
    "roc_auc_score(y_valid,clf.predict_proba(features_valid)[:,1])\n",
    "roc_auc_score(y_test,clf.predict_proba(features_test)[:,1])"
   ]
  },
  {
   "cell_type": "code",
   "execution_count": 7,
   "metadata": {
    "scrolled": true
   },
   "outputs": [
    {
     "name": "stdout",
     "output_type": "stream",
     "text": [
      "gen\tnevals\tmax     \n",
      "0  \t200   \t0.741114\n",
      "1  \t111   \t0.742941\n",
      "2  \t110   \t0.742941\n",
      "3  \t111   \t0.743095\n",
      "4  \t110   \t0.744686\n",
      "5  \t119   \t0.746573\n",
      "6  \t113   \t0.746573\n",
      "7  \t114   \t0.747207\n",
      "8  \t108   \t0.748869\n",
      "9  \t108   \t0.749689\n",
      "10 \t109   \t0.751306\n",
      "11 \t120   \t0.751306\n",
      "12 \t111   \t0.750316\n",
      "13 \t106   \t0.751497\n",
      "14 \t102   \t0.752295\n",
      "15 \t116   \t0.7529  \n",
      "16 \t127   \t0.7529  \n",
      "17 \t108   \t0.7529  \n",
      "18 \t105   \t0.752295\n",
      "19 \t121   \t0.752644\n",
      "20 \t102   \t0.753399\n",
      "21 \t110   \t0.754169\n",
      "22 \t101   \t0.754169\n",
      "23 \t97    \t0.753707\n",
      "24 \t117   \t0.753707\n",
      "25 \t113   \t0.753412\n",
      "26 \t104   \t0.753987\n",
      "27 \t104   \t0.753987\n",
      "28 \t100   \t0.753987\n",
      "29 \t106   \t0.754091\n",
      "30 \t110   \t0.753987\n",
      "31 \t108   \t0.754385\n",
      "32 \t107   \t0.754385\n",
      "33 \t112   \t0.754008\n",
      "34 \t92    \t0.754754\n",
      "35 \t101   \t0.754754\n",
      "36 \t105   \t0.754754\n",
      "37 \t97    \t0.754258\n",
      "38 \t116   \t0.754258\n",
      "39 \t143   \t0.754406\n",
      "40 \t105   \t0.754406\n",
      "41 \t101   \t0.754589\n",
      "42 \t103   \t0.754589\n",
      "43 \t101   \t0.755013\n",
      "44 \t113   \t0.755013\n",
      "45 \t121   \t0.755121\n",
      "46 \t112   \t0.755121\n",
      "47 \t100   \t0.755121\n",
      "48 \t116   \t0.755121\n",
      "49 \t101   \t0.755121\n",
      "50 \t106   \t0.755121\n"
     ]
    }
   ],
   "source": [
    "from deap_v1 import *\n",
    "ga = FeatureSelectGA(377, features_train, y_train, features_valid, y_valid)"
   ]
  },
  {
   "cell_type": "code",
   "execution_count": 11,
   "metadata": {},
   "outputs": [
    {
     "data": {
      "text/plain": [
       "LogisticRegression(C=0.03, class_weight=None, dual=False, fit_intercept=True,\n",
       "          intercept_scaling=1, max_iter=200, multi_class='ovr', n_jobs=1,\n",
       "          penalty='l2', random_state=123, solver='liblinear', tol=0.0001,\n",
       "          verbose=0, warm_start=False)"
      ]
     },
     "execution_count": 11,
     "metadata": {},
     "output_type": "execute_result"
    },
    {
     "data": {
      "text/plain": [
       "0.77478427831165197"
      ]
     },
     "execution_count": 11,
     "metadata": {},
     "output_type": "execute_result"
    },
    {
     "data": {
      "text/plain": [
       "0.76256902955333317"
      ]
     },
     "execution_count": 11,
     "metadata": {},
     "output_type": "execute_result"
    },
    {
     "data": {
      "text/plain": [
       "0.75912617637834345"
      ]
     },
     "execution_count": 11,
     "metadata": {},
     "output_type": "execute_result"
    }
   ],
   "source": [
    "individual = ga[0]\n",
    "col_idx = [i for i in range(len(individual)) if individual[i] == 1]\n",
    "\n",
    "clf = LogisticRegression(C=0.03, penalty='l2', max_iter=200, random_state=123)\n",
    "clf.fit(features_train[:,col_idx], y_train)\n",
    "\n",
    "roc_auc_score(y_train,clf.predict_proba(features_train[:,col_idx])[:,1])\n",
    "roc_auc_score(y_valid,clf.predict_proba(features_valid[:,col_idx])[:,1])\n",
    "roc_auc_score(y_test,clf.predict_proba(features_test[:,col_idx])[:,1])"
   ]
  },
  {
   "cell_type": "code",
   "execution_count": null,
   "metadata": {
    "collapsed": true
   },
   "outputs": [],
   "source": []
  }
 ],
 "metadata": {
  "kernelspec": {
   "display_name": "Python 3",
   "language": "python",
   "name": "python3"
  },
  "language_info": {
   "codemirror_mode": {
    "name": "ipython",
    "version": 3
   },
   "file_extension": ".py",
   "mimetype": "text/x-python",
   "name": "python",
   "nbconvert_exporter": "python",
   "pygments_lexer": "ipython3",
   "version": "3.6.3"
  }
 },
 "nbformat": 4,
 "nbformat_minor": 2
}
