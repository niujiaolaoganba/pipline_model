{
 "cells": [
  {
   "cell_type": "code",
   "execution_count": 38,
   "metadata": {
    "collapsed": true
   },
   "outputs": [],
   "source": [
    "\n",
    "import pandas as pd\n",
    "\n",
    "from sklearn.model_selection import train_test_split\n",
    "from sklearn.feature_extraction.text import CountVectorizer\n",
    "from sklearn.pipeline import FeatureUnion\n",
    "from sklearn.model_selection import StratifiedShuffleSplit\n",
    "from sklearn.metrics import roc_auc_score\n",
    "from sklearn2pmml import PMMLPipeline,sklearn2pmml\n",
    "\n",
    "from xgboost import XGBClassifier\n",
    "from xgboost import plot_importance\n",
    "\n",
    "from tag_num import TagsNum\n",
    "from plot_learning_curve import *\n",
    "from IPython.core.interactiveshell import InteractiveShell\n",
    "InteractiveShell.ast_node_interactivity = \"all\""
   ]
  },
  {
   "cell_type": "code",
   "execution_count": 35,
   "metadata": {},
   "outputs": [
    {
     "data": {
      "text/plain": [
       "1    23062\n",
       "0     9490\n",
       "Name: is_reg, dtype: int64"
      ]
     },
     "execution_count": 35,
     "metadata": {},
     "output_type": "execute_result"
    }
   ],
   "source": [
    "# 读取数据并定义X， y， 切分train，valid\n",
    "\n",
    "train = pd.read_csv('qz_andr.csv')\n",
    "taglist = pd.read_csv('个推编码字典.txt', header = None, sep = '|')\n",
    "tag_dict = taglist.set_index([0]).to_dict()[1]\n",
    "\n",
    "X = train['tags']\n",
    "y = train['is_reg']\n",
    "\n",
    "X_train, X_valid, y_train, y_valid = train_test_split(X,y,\n",
    "                                                      stratify=y,\n",
    "                                                      test_size = 0.3,\n",
    "                                                     random_state = 123)\n",
    "X.shape\n",
    "\n",
    "y.value_counts(dropna=False)"
   ]
  },
  {
   "cell_type": "code",
   "execution_count": 4,
   "metadata": {
    "collapsed": true
   },
   "outputs": [],
   "source": [
    "# 特征构造\n",
    "\n",
    "combined_feature = FeatureUnion([('token', CountVectorizer()),\n",
    "                                ('count', TagsNum())])\n",
    "\n",
    "features_train = combined_feature.fit(X_train, y_train).transform(X_train)\n",
    "features_valid = combined_feature.transform(X_valid)\n",
    "features = combined_feature.transform(X)"
   ]
  },
  {
   "cell_type": "code",
   "execution_count": 6,
   "metadata": {},
   "outputs": [
    {
     "name": "stdout",
     "output_type": "stream",
     "text": [
      "[0]\tvalidation_0-auc:0.669205\tvalidation_1-auc:0.665918\n",
      "Multiple eval metrics have been passed: 'validation_1-auc' will be used for early stopping.\n",
      "\n",
      "Will train until validation_1-auc hasn't improved in 10 rounds.\n",
      "[1]\tvalidation_0-auc:0.693576\tvalidation_1-auc:0.690789\n",
      "[2]\tvalidation_0-auc:0.716544\tvalidation_1-auc:0.716978\n",
      "[3]\tvalidation_0-auc:0.718088\tvalidation_1-auc:0.718358\n",
      "[4]\tvalidation_0-auc:0.718214\tvalidation_1-auc:0.718024\n",
      "[5]\tvalidation_0-auc:0.722429\tvalidation_1-auc:0.723615\n",
      "[6]\tvalidation_0-auc:0.722436\tvalidation_1-auc:0.724051\n",
      "[7]\tvalidation_0-auc:0.725265\tvalidation_1-auc:0.725134\n",
      "[8]\tvalidation_0-auc:0.730501\tvalidation_1-auc:0.727222\n",
      "[9]\tvalidation_0-auc:0.729814\tvalidation_1-auc:0.726436\n"
     ]
    },
    {
     "data": {
      "text/plain": [
       "XGBClassifier(base_score=0.5, booster='gbtree', colsample_bylevel=0.7,\n",
       "       colsample_bytree=1, eval_metric='auc', gamma=0, learning_rate=0.1,\n",
       "       max_delta_step=0, max_depth=2, min_child_weight=1, missing=None,\n",
       "       n_estimators=10, n_jobs=8, nthread=None,\n",
       "       objective='binary:logistic', radom_state=123, random_state=0,\n",
       "       reg_alpha=0, reg_lambda=1, scale_pos_weight=1, seed=None,\n",
       "       silent=True, subsample=0.5)"
      ]
     },
     "execution_count": 6,
     "metadata": {},
     "output_type": "execute_result"
    }
   ],
   "source": [
    "# 训练模型并调参，手动\n",
    "\n",
    "clf = XGBClassifier(max_depth=2,\n",
    "                    eval_metric='auc',\n",
    "                    learning_rate = 0.1,\n",
    "                    n_estimators= 10,\n",
    "                    subsample= 0.5,\n",
    "                    n_jobs = 8,\n",
    "                    colsample_bylevel = 0.7,\n",
    "#                     reg_alpha=3,\n",
    "                    radom_state = 123,\n",
    "                    )\n",
    "\n",
    "eval_set = [(features_train, y_train), (features_valid, y_valid)]\n",
    "clf.fit(features_train, y_train, eval_metric='auc', eval_set=eval_set, verbose=True,early_stopping_rounds=10)"
   ]
  },
  {
   "cell_type": "code",
   "execution_count": 39,
   "metadata": {},
   "outputs": [
    {
     "data": {
      "text/html": [
       "<div>\n",
       "<style>\n",
       "    .dataframe thead tr:only-child th {\n",
       "        text-align: right;\n",
       "    }\n",
       "\n",
       "    .dataframe thead th {\n",
       "        text-align: left;\n",
       "    }\n",
       "\n",
       "    .dataframe tbody tr th {\n",
       "        vertical-align: top;\n",
       "    }\n",
       "</style>\n",
       "<table border=\"1\" class=\"dataframe\">\n",
       "  <thead>\n",
       "    <tr style=\"text-align: right;\">\n",
       "      <th></th>\n",
       "      <th>feature_name</th>\n",
       "      <th>importance</th>\n",
       "    </tr>\n",
       "  </thead>\n",
       "  <tbody>\n",
       "    <tr>\n",
       "      <th>220</th>\n",
       "      <td>网贷</td>\n",
       "      <td>0.300000</td>\n",
       "    </tr>\n",
       "    <tr>\n",
       "      <th>42</th>\n",
       "      <td>性别女</td>\n",
       "      <td>0.133333</td>\n",
       "    </tr>\n",
       "    <tr>\n",
       "      <th>318</th>\n",
       "      <td>购物</td>\n",
       "      <td>0.100000</td>\n",
       "    </tr>\n",
       "    <tr>\n",
       "      <th>323</th>\n",
       "      <td>网购</td>\n",
       "      <td>0.100000</td>\n",
       "    </tr>\n",
       "    <tr>\n",
       "      <th>203</th>\n",
       "      <td>金融理财</td>\n",
       "      <td>0.100000</td>\n",
       "    </tr>\n",
       "    <tr>\n",
       "      <th>384</th>\n",
       "      <td>tags_num</td>\n",
       "      <td>0.033333</td>\n",
       "    </tr>\n",
       "    <tr>\n",
       "      <th>269</th>\n",
       "      <td>代驾</td>\n",
       "      <td>0.033333</td>\n",
       "    </tr>\n",
       "    <tr>\n",
       "      <th>270</th>\n",
       "      <td>代驾_活跃低</td>\n",
       "      <td>0.033333</td>\n",
       "    </tr>\n",
       "    <tr>\n",
       "      <th>157</th>\n",
       "      <td>社区</td>\n",
       "      <td>0.033333</td>\n",
       "    </tr>\n",
       "    <tr>\n",
       "      <th>39</th>\n",
       "      <td>已婚</td>\n",
       "      <td>0.033333</td>\n",
       "    </tr>\n",
       "  </tbody>\n",
       "</table>\n",
       "</div>"
      ],
      "text/plain": [
       "    feature_name  importance\n",
       "220           网贷    0.300000\n",
       "42           性别女    0.133333\n",
       "318           购物    0.100000\n",
       "323           网购    0.100000\n",
       "203         金融理财    0.100000\n",
       "384     tags_num    0.033333\n",
       "269           代驾    0.033333\n",
       "270       代驾_活跃低    0.033333\n",
       "157           社区    0.033333\n",
       "39            已婚    0.033333"
      ]
     },
     "execution_count": 39,
     "metadata": {},
     "output_type": "execute_result"
    },
    {
     "data": {
      "text/html": [
       "<div>\n",
       "<style>\n",
       "    .dataframe thead tr:only-child th {\n",
       "        text-align: right;\n",
       "    }\n",
       "\n",
       "    .dataframe thead th {\n",
       "        text-align: left;\n",
       "    }\n",
       "\n",
       "    .dataframe tbody tr th {\n",
       "        vertical-align: top;\n",
       "    }\n",
       "</style>\n",
       "<table border=\"1\" class=\"dataframe\">\n",
       "  <thead>\n",
       "    <tr style=\"text-align: right;\">\n",
       "      <th></th>\n",
       "      <th>feature_name</th>\n",
       "      <th>importance</th>\n",
       "    </tr>\n",
       "  </thead>\n",
       "  <tbody>\n",
       "    <tr>\n",
       "      <th>0</th>\n",
       "      <td>02a300</td>\n",
       "      <td>0.0</td>\n",
       "    </tr>\n",
       "    <tr>\n",
       "      <th>259</th>\n",
       "      <td>二手车_活跃高</td>\n",
       "      <td>0.0</td>\n",
       "    </tr>\n",
       "    <tr>\n",
       "      <th>258</th>\n",
       "      <td>二手车_活跃低</td>\n",
       "      <td>0.0</td>\n",
       "    </tr>\n",
       "    <tr>\n",
       "      <th>257</th>\n",
       "      <td>二手车</td>\n",
       "      <td>0.0</td>\n",
       "    </tr>\n",
       "    <tr>\n",
       "      <th>256</th>\n",
       "      <td>驾考_活跃中</td>\n",
       "      <td>0.0</td>\n",
       "    </tr>\n",
       "    <tr>\n",
       "      <th>255</th>\n",
       "      <td>驾考_活跃高</td>\n",
       "      <td>0.0</td>\n",
       "    </tr>\n",
       "    <tr>\n",
       "      <th>254</th>\n",
       "      <td>驾考_活跃低</td>\n",
       "      <td>0.0</td>\n",
       "    </tr>\n",
       "    <tr>\n",
       "      <th>253</th>\n",
       "      <td>驾考</td>\n",
       "      <td>0.0</td>\n",
       "    </tr>\n",
       "    <tr>\n",
       "      <th>252</th>\n",
       "      <td>汽车</td>\n",
       "      <td>0.0</td>\n",
       "    </tr>\n",
       "    <tr>\n",
       "      <th>251</th>\n",
       "      <td>休闲旅行_活跃中</td>\n",
       "      <td>0.0</td>\n",
       "    </tr>\n",
       "  </tbody>\n",
       "</table>\n",
       "</div>"
      ],
      "text/plain": [
       "    feature_name  importance\n",
       "0         02a300         0.0\n",
       "259      二手车_活跃高         0.0\n",
       "258      二手车_活跃低         0.0\n",
       "257          二手车         0.0\n",
       "256       驾考_活跃中         0.0\n",
       "255       驾考_活跃高         0.0\n",
       "254       驾考_活跃低         0.0\n",
       "253           驾考         0.0\n",
       "252           汽车         0.0\n",
       "251     休闲旅行_活跃中         0.0"
      ]
     },
     "execution_count": 39,
     "metadata": {},
     "output_type": "execute_result"
    }
   ],
   "source": [
    "# feature importance\n",
    "\n",
    "features_importance = pd.DataFrame({\n",
    "    \"feature_name\": [tag_dict[feature.split('__')[1]] if feature.split('__')[1] in tag_dict else feature.split('__')[1] for feature in combined_feature.get_feature_names()],\n",
    "    \"importance\": clf.feature_importances_\n",
    "})\n",
    "\n",
    "features_importance.sort_values(by = \"importance\", ascending = False)[:10]\n",
    "features_importance.sort_values(by = \"importance\")[:10]"
   ]
  },
  {
   "cell_type": "code",
   "execution_count": 33,
   "metadata": {},
   "outputs": [
    {
     "data": {
      "image/png": "[encoded data removed]",
      "text/plain": [
       "<matplotlib.figure.Figure at 0x1a0bcee400>"
      ]
     },
     "metadata": {},
     "output_type": "display_data"
    }
   ],
   "source": [
    "# 画学习曲线，cv。\n",
    "\n",
    "cv = StratifiedShuffleSplit(n_splits = 10, test_size = 0.3, random_state = 123)\n",
    "learning_curve = plot_learning_curve(clf, 'curve', \n",
    "                                     features_train, y_train,\n",
    "                                     cv=cv,\n",
    "                                     ylim = (0.5, 1),\n",
    "                                     scoring = \"roc_auc\",\n",
    "                                     train_sizes=np.linspace(.1, 1.0, 10))\n",
    "learning_curve.show()"
   ]
  },
  {
   "cell_type": "code",
   "execution_count": 8,
   "metadata": {
    "collapsed": true
   },
   "outputs": [],
   "source": [
    "# 训练模型并调参，Gridsearch, 非常费时，慎重\n",
    "\n",
    "# from sklearn.model_selection import GridSearchCV\n",
    "\n",
    "# bst = XGBClassifier(n_jobs = 8, eval_metric = 'auc', random_state=123)\n",
    "# params = {\n",
    "#     'max_depth':[2,3,5],\n",
    "#     'learning_rate':[0.01,0.05,0.1,0.5],\n",
    "#     'n_estimators':[5,10,20,50],\n",
    "#     'subsample':[0.3,0.5,0.7,0.9],\n",
    "#     'colsample_bylevel':[0.3,0.5,0.7],\n",
    "#     'reg_alpha':[0,1],\n",
    "# }\n",
    "\n",
    "# clf_search = GridSearchCV(bst,params).fit(X, y)"
   ]
  },
  {
   "cell_type": "code",
   "execution_count": 9,
   "metadata": {
    "collapsed": true
   },
   "outputs": [],
   "source": [
    "# clf_search.best_estimator_"
   ]
  },
  {
   "cell_type": "markdown",
   "metadata": {},
   "source": [
    "### clf_search.best_estimator_\n",
    "XGBClassifier(base_score=0.5, booster='gbtree', colsample_bylevel=1,  \n",
    "       colsample_bytree=0.5, eval_metric='auc', gamma=0, learning_rate=0.5,  \n",
    "       max_delta_step=0, max_depth=3, min_child_weight=1, missing=None,  \n",
    "       n_estimators=50, n_jobs=8, nthread=None,  \n",
    "       objective='binary:logistic', random_state=123, reg_alpha=3,  \n",
    "       reg_lambda=1, scale_pos_weight=1, seed=None, silent=True,  \n",
    "       subsample=0.7)  "
   ]
  },
  {
   "cell_type": "code",
   "execution_count": 12,
   "metadata": {},
   "outputs": [
    {
     "data": {
      "text/plain": [
       "XGBClassifier(base_score=0.5, booster='gbtree', colsample_bylevel=0.5,\n",
       "       colsample_bytree=1, eval_metric='auc', gamma=0, learning_rate=0.5,\n",
       "       max_delta_step=0, max_depth=3, min_child_weight=1, missing=None,\n",
       "       n_estimators=50, n_jobs=8, nthread=None,\n",
       "       objective='binary:logistic', random_state=123, reg_alpha=3,\n",
       "       reg_lambda=1, scale_pos_weight=1, seed=None, silent=True,\n",
       "       subsample=0.7)"
      ]
     },
     "execution_count": 12,
     "metadata": {},
     "output_type": "execute_result"
    }
   ],
   "source": [
    "# 用gridsearch params\n",
    "\n",
    "clf_auto = XGBClassifier(max_depth=3,\n",
    "                    eval_metric='auc',\n",
    "                    learning_rate = 0.5,\n",
    "                    n_estimators= 50,\n",
    "                    subsample= 0.7,\n",
    "                    n_jobs = 8,\n",
    "                    colsample_bylevel = 0.5,\n",
    "                    reg_alpha=3,\n",
    "                    random_state = 123,\n",
    "                    )\n",
    "clf_auto.fit(features_train, y_train)\n"
   ]
  },
  {
   "cell_type": "code",
   "execution_count": 40,
   "metadata": {},
   "outputs": [
    {
     "data": {
      "text/html": [
       "<div>\n",
       "<style>\n",
       "    .dataframe thead tr:only-child th {\n",
       "        text-align: right;\n",
       "    }\n",
       "\n",
       "    .dataframe thead th {\n",
       "        text-align: left;\n",
       "    }\n",
       "\n",
       "    .dataframe tbody tr th {\n",
       "        vertical-align: top;\n",
       "    }\n",
       "</style>\n",
       "<table border=\"1\" class=\"dataframe\">\n",
       "  <thead>\n",
       "    <tr style=\"text-align: right;\">\n",
       "      <th></th>\n",
       "      <th>feature_name</th>\n",
       "      <th>importance</th>\n",
       "    </tr>\n",
       "  </thead>\n",
       "  <tbody>\n",
       "    <tr>\n",
       "      <th>384</th>\n",
       "      <td>tags_num</td>\n",
       "      <td>0.055556</td>\n",
       "    </tr>\n",
       "    <tr>\n",
       "      <th>220</th>\n",
       "      <td>网贷</td>\n",
       "      <td>0.023392</td>\n",
       "    </tr>\n",
       "    <tr>\n",
       "      <th>366</th>\n",
       "      <td>搞笑</td>\n",
       "      <td>0.020468</td>\n",
       "    </tr>\n",
       "    <tr>\n",
       "      <th>58</th>\n",
       "      <td>0utw00</td>\n",
       "      <td>0.020468</td>\n",
       "    </tr>\n",
       "    <tr>\n",
       "      <th>86</th>\n",
       "      <td>打车出行</td>\n",
       "      <td>0.020468</td>\n",
       "    </tr>\n",
       "    <tr>\n",
       "      <th>157</th>\n",
       "      <td>社区</td>\n",
       "      <td>0.017544</td>\n",
       "    </tr>\n",
       "    <tr>\n",
       "      <th>196</th>\n",
       "      <td>外卖</td>\n",
       "      <td>0.017544</td>\n",
       "    </tr>\n",
       "    <tr>\n",
       "      <th>216</th>\n",
       "      <td>信用卡</td>\n",
       "      <td>0.017544</td>\n",
       "    </tr>\n",
       "    <tr>\n",
       "      <th>224</th>\n",
       "      <td>投资理财</td>\n",
       "      <td>0.014620</td>\n",
       "    </tr>\n",
       "    <tr>\n",
       "      <th>159</th>\n",
       "      <td>社区_活跃高</td>\n",
       "      <td>0.014620</td>\n",
       "    </tr>\n",
       "  </tbody>\n",
       "</table>\n",
       "</div>"
      ],
      "text/plain": [
       "    feature_name  importance\n",
       "384     tags_num    0.055556\n",
       "220           网贷    0.023392\n",
       "366           搞笑    0.020468\n",
       "58        0utw00    0.020468\n",
       "86          打车出行    0.020468\n",
       "157           社区    0.017544\n",
       "196           外卖    0.017544\n",
       "216          信用卡    0.017544\n",
       "224         投资理财    0.014620\n",
       "159       社区_活跃高    0.014620"
      ]
     },
     "execution_count": 40,
     "metadata": {},
     "output_type": "execute_result"
    },
    {
     "data": {
      "text/html": [
       "<div>\n",
       "<style>\n",
       "    .dataframe thead tr:only-child th {\n",
       "        text-align: right;\n",
       "    }\n",
       "\n",
       "    .dataframe thead th {\n",
       "        text-align: left;\n",
       "    }\n",
       "\n",
       "    .dataframe tbody tr th {\n",
       "        vertical-align: top;\n",
       "    }\n",
       "</style>\n",
       "<table border=\"1\" class=\"dataframe\">\n",
       "  <thead>\n",
       "    <tr style=\"text-align: right;\">\n",
       "      <th></th>\n",
       "      <th>feature_name</th>\n",
       "      <th>importance</th>\n",
       "    </tr>\n",
       "  </thead>\n",
       "  <tbody>\n",
       "    <tr>\n",
       "      <th>192</th>\n",
       "      <td>洗衣</td>\n",
       "      <td>0.0</td>\n",
       "    </tr>\n",
       "    <tr>\n",
       "      <th>191</th>\n",
       "      <td>找阿姨</td>\n",
       "      <td>0.0</td>\n",
       "    </tr>\n",
       "    <tr>\n",
       "      <th>383</th>\n",
       "      <td>减肥_活跃中</td>\n",
       "      <td>0.0</td>\n",
       "    </tr>\n",
       "    <tr>\n",
       "      <th>193</th>\n",
       "      <td>洗衣_活跃低</td>\n",
       "      <td>0.0</td>\n",
       "    </tr>\n",
       "    <tr>\n",
       "      <th>194</th>\n",
       "      <td>洗衣_活跃高</td>\n",
       "      <td>0.0</td>\n",
       "    </tr>\n",
       "    <tr>\n",
       "      <th>195</th>\n",
       "      <td>洗衣_活跃中</td>\n",
       "      <td>0.0</td>\n",
       "    </tr>\n",
       "    <tr>\n",
       "      <th>355</th>\n",
       "      <td>听书_活跃中</td>\n",
       "      <td>0.0</td>\n",
       "    </tr>\n",
       "    <tr>\n",
       "      <th>198</th>\n",
       "      <td>外卖_活跃高</td>\n",
       "      <td>0.0</td>\n",
       "    </tr>\n",
       "    <tr>\n",
       "      <th>200</th>\n",
       "      <td>做饭</td>\n",
       "      <td>0.0</td>\n",
       "    </tr>\n",
       "    <tr>\n",
       "      <th>201</th>\n",
       "      <td>做饭_活跃高</td>\n",
       "      <td>0.0</td>\n",
       "    </tr>\n",
       "  </tbody>\n",
       "</table>\n",
       "</div>"
      ],
      "text/plain": [
       "    feature_name  importance\n",
       "192           洗衣         0.0\n",
       "191          找阿姨         0.0\n",
       "383       减肥_活跃中         0.0\n",
       "193       洗衣_活跃低         0.0\n",
       "194       洗衣_活跃高         0.0\n",
       "195       洗衣_活跃中         0.0\n",
       "355       听书_活跃中         0.0\n",
       "198       外卖_活跃高         0.0\n",
       "200           做饭         0.0\n",
       "201       做饭_活跃高         0.0"
      ]
     },
     "execution_count": 40,
     "metadata": {},
     "output_type": "execute_result"
    }
   ],
   "source": [
    "# feature importance\n",
    "\n",
    "features_importance = pd.DataFrame({\n",
    "    \"feature_name\": [tag_dict[feature.split('__')[1]] if feature.split('__')[1] in tag_dict else feature.split('__')[1] for feature in combined_feature.get_feature_names()],\n",
    "    \"importance\": clf_auto.feature_importances_\n",
    "})\n",
    "\n",
    "features_importance.sort_values(by = \"importance\", ascending = False)[:10]\n",
    "features_importance.sort_values(by = \"importance\")[:10]"
   ]
  },
  {
   "cell_type": "code",
   "execution_count": 29,
   "metadata": {},
   "outputs": [
    {
     "data": {
      "image/png": "[encoded data removed]",
      "text/plain": [
       "<matplotlib.figure.Figure at 0x1a0fa77ac8>"
      ]
     },
     "metadata": {},
     "output_type": "display_data"
    }
   ],
   "source": [
    "# 画学习曲线，cv\n",
    "\n",
    "cv = StratifiedShuffleSplit(n_splits = 10, test_size = 0.3, random_state = 0)\n",
    "learning_curve = plot_learning_curve(clf_auto, 'curve', \n",
    "                                     features_train, y_train,\n",
    "                                     cv=cv,\n",
    "                                     ylim = (0.5,1),\n",
    "                                     scoring = \"roc_auc\",\n",
    "                                     train_sizes=np.linspace(.1, 1.0, 10))\n",
    "learning_curve.show()"
   ]
  },
  {
   "cell_type": "code",
   "execution_count": 15,
   "metadata": {},
   "outputs": [
    {
     "data": {
      "text/plain": [
       "PMMLPipeline(steps=[('feature_engineer', FeatureUnion(n_jobs=1,\n",
       "       transformer_list=[('token', CountVectorizer(analyzer='word', binary=False, decode_error='strict',\n",
       "        dtype=<class 'numpy.int64'>, encoding='utf-8', input='content',\n",
       "        lowercase=True, max_df=1.0, max_features=None, min_df=1,\n",
       "        ngram_range=(1, 1), preprocessor=None, stop_words=None,\n",
       "        strip_accents=None, token_pattern='(?u)\\\\b\\\\w\\\\w+\\\\b',\n",
       "        tokenizer=None, vocabulary=None)), ('count', TagsNum())],\n",
       "       transformer_weights=None)),\n",
       "       ('clf', XGBClassifier(base_score=0.5, booster='gbtree', colsample_bylevel=0.5,\n",
       "       colsample_bytree=1, eval_metric='auc', gamma=0, learning_rate=0.5,\n",
       "       max_delta_step=0, max_depth=3, min_child_weight=1, missing=None,\n",
       "       n_estimators=50, n_jobs=8, nthread=None,\n",
       "       objective='binary:logistic', random_state=123, reg_alpha=3,\n",
       "       reg_lambda=1, scale_pos_weight=1, seed=None, silent=True,\n",
       "       subsample=0.7))])"
      ]
     },
     "execution_count": 15,
     "metadata": {},
     "output_type": "execute_result"
    }
   ],
   "source": [
    "# 写成pipeline，refit X, y, 并生成pmml文件\n",
    "\n",
    "pipeline = PMMLPipeline([\n",
    "    ('feature_engineer', combined_feature),\n",
    "    ('clf', clf)\n",
    "])\n",
    "\n",
    "pipeline.fit(X, y)\n",
    "# sklearn2pmml(pipeline, 'QzAndorid_GeTui_svm.pmml', debug= True)\n",
    "\n",
    "\n",
    "pipeline_auto = PMMLPipeline([\n",
    "    ('feature_engineer', combined_feature),\n",
    "    ('clf', clf_auto)\n",
    "])\n",
    "\n",
    "pipeline_auto.fit(X, y)\n",
    "# sklearn2pmml(pipeline, 'QzAndorid_GeTui_svm.pmml', debug= True)"
   ]
  },
  {
   "cell_type": "code",
   "execution_count": 30,
   "metadata": {},
   "outputs": [],
   "source": [
    "# 猎豹平台数据测试\n",
    "\n",
    "test = pd.read_csv('liebao_loan.csv')\n",
    "\n",
    "test_X_1 = test['tags']\n",
    "test_y_1 = test['y_1']\n",
    "\n",
    "test_X_2 = test['tags']\n",
    "test_y_2 = test['y_2']\n",
    "\n",
    "test_X_3 = test['tags'][test['y_1'] == 1]\n",
    "test_y_3 = test['y_2'][test['y_1'] == 1]"
   ]
  },
  {
   "cell_type": "code",
   "execution_count": 31,
   "metadata": {},
   "outputs": [
    {
     "data": {
      "text/plain": [
       "(0.50051843468676593, 0.5846945089349459, 0.58730669965659188)"
      ]
     },
     "execution_count": 31,
     "metadata": {},
     "output_type": "execute_result"
    }
   ],
   "source": [
    "# 用pipeline预测\n",
    "\n",
    "test_y_pred_1 = pipeline.predict_proba(test_X_1)[:,1]\n",
    "test_y_pred_2 = pipeline.predict_proba(test_X_2)[:,1]\n",
    "test_y_pred_3 = pipeline.predict_proba(test_X_3)[:,1]\n",
    "\n",
    "\n",
    "roc_auc_score(test_y_1, test_y_pred_1), roc_auc_score(test_y_2, test_y_pred_2),roc_auc_score(test_y_3, test_y_pred_3)"
   ]
  },
  {
   "cell_type": "code",
   "execution_count": 34,
   "metadata": {},
   "outputs": [
    {
     "data": {
      "text/plain": [
       "(0.49636270764182683, 0.57854396606888825, 0.58404325661753731)"
      ]
     },
     "execution_count": 34,
     "metadata": {},
     "output_type": "execute_result"
    }
   ],
   "source": [
    "# 用pipeline_auto预测\n",
    "\n",
    "test_y_pred_1 = pipeline_auto.predict_proba(test_X_1)[:,1]\n",
    "test_y_pred_2 = pipeline_auto.predict_proba(test_X_2)[:,1]\n",
    "test_y_pred_3 = pipeline_auto.predict_proba(test_X_3)[:,1]\n",
    "\n",
    "\n",
    "roc_auc_score(test_y_1, test_y_pred_1), roc_auc_score(test_y_2, test_y_pred_2),roc_auc_score(test_y_3, test_y_pred_3)"
   ]
  },
  {
   "cell_type": "code",
   "execution_count": null,
   "metadata": {
    "collapsed": true
   },
   "outputs": [],
   "source": []
  }
 ],
 "metadata": {
  "kernelspec": {
   "display_name": "Python 3",
   "language": "python",
   "name": "python3"
  },
  "language_info": {
   "codemirror_mode": {
    "name": "ipython",
    "version": 3
   },
   "file_extension": ".py",
   "mimetype": "text/x-python",
   "name": "python",
   "nbconvert_exporter": "python",
   "pygments_lexer": "ipython3",
   "version": "3.6.3"
  }
 },
 "nbformat": 4,
 "nbformat_minor": 2
}
