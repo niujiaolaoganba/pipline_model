{
 "cells": [
  {
   "cell_type": "code",
   "execution_count": 1,
   "metadata": {
    "collapsed": true
   },
   "outputs": [],
   "source": [
    "from hyperopt import fmin, tpe, hp, STATUS_OK, rand, Trials\n",
    "import networkx\n",
    "import time\n",
    "import pickle\n",
    "from hyperopt.mongoexp import MongoTrials\n"
   ]
  },
  {
   "cell_type": "code",
   "execution_count": 4,
   "metadata": {},
   "outputs": [
    {
     "data": {
      "text/plain": [
       "'1.11'"
      ]
     },
     "execution_count": 4,
     "metadata": {},
     "output_type": "execute_result"
    }
   ],
   "source": [
    "networkx.__version__\n",
    "# hyperopt.__version__"
   ]
  },
  {
   "cell_type": "code",
   "execution_count": 21,
   "metadata": {
    "collapsed": true
   },
   "outputs": [],
   "source": [
    "def obj(x):\n",
    "    return {'loss': x**2, \n",
    "            'status': STATUS_OK,\n",
    "            'eval_time': time.time(),\n",
    "            'other_stuff': {'type': None, 'value': [0, 1, 2]},\n",
    "            'attachments': {'time_module': pickle.dumps(time.time)}\n",
    "           }\n",
    "\n",
    "\n",
    "space = hp.uniform('x', -10, 10)"
   ]
  },
  {
   "cell_type": "code",
   "execution_count": 15,
   "metadata": {
    "collapsed": true
   },
   "outputs": [],
   "source": [
    "best = fmin(obj, space, algo = tpe.suggest, max_evals = 1000)\n",
    "# best = fmin(q, space, algo=rand.suggest)"
   ]
  },
  {
   "cell_type": "code",
   "execution_count": 16,
   "metadata": {},
   "outputs": [
    {
     "data": {
      "text/plain": [
       "{'x': -0.0035870094114625467}"
      ]
     },
     "execution_count": 16,
     "metadata": {},
     "output_type": "execute_result"
    }
   ],
   "source": [
    "best"
   ]
  },
  {
   "cell_type": "code",
   "execution_count": 23,
   "metadata": {},
   "outputs": [
    {
     "data": {
      "text/plain": [
       "{'x': -0.004081898656542299}"
      ]
     },
     "execution_count": 23,
     "metadata": {},
     "output_type": "execute_result"
    }
   ],
   "source": [
    "trials = Trials()\n",
    "fmin(obj, space, algo = tpe.suggest, max_evals = 100, trials = trials)"
   ]
  },
  {
   "cell_type": "code",
   "execution_count": 26,
   "metadata": {},
   "outputs": [
    {
     "data": {
      "text/plain": [
       "[{'eval_time': 1519440809.774714,\n",
       "  'loss': 38.090849997749345,\n",
       "  'other_stuff': {'type': None, 'value': [0, 1, 2]},\n",
       "  'status': 'ok'},\n",
       " {'eval_time': 1519440809.776431,\n",
       "  'loss': 66.84117115495285,\n",
       "  'other_stuff': {'type': None, 'value': [0, 1, 2]},\n",
       "  'status': 'ok'},\n",
       " {'eval_time': 1519440809.777367,\n",
       "  'loss': 97.93227158951369,\n",
       "  'other_stuff': {'type': None, 'value': [0, 1, 2]},\n",
       "  'status': 'ok'},\n",
       " {'eval_time': 1519440809.7782998,\n",
       "  'loss': 9.528292722071498,\n",
       "  'other_stuff': {'type': None, 'value': [0, 1, 2]},\n",
       "  'status': 'ok'},\n",
       " {'eval_time': 1519440809.779208,\n",
       "  'loss': 44.231207032342404,\n",
       "  'other_stuff': {'type': None, 'value': [0, 1, 2]},\n",
       "  'status': 'ok'},\n",
       " {'eval_time': 1519440809.7800992,\n",
       "  'loss': 5.537274482284772,\n",
       "  'other_stuff': {'type': None, 'value': [0, 1, 2]},\n",
       "  'status': 'ok'},\n",
       " {'eval_time': 1519440809.7809632,\n",
       "  'loss': 28.28143840986186,\n",
       "  'other_stuff': {'type': None, 'value': [0, 1, 2]},\n",
       "  'status': 'ok'},\n",
       " {'eval_time': 1519440809.781847,\n",
       "  'loss': 66.71920483314997,\n",
       "  'other_stuff': {'type': None, 'value': [0, 1, 2]},\n",
       "  'status': 'ok'},\n",
       " {'eval_time': 1519440809.7827358,\n",
       "  'loss': 79.5073468330953,\n",
       "  'other_stuff': {'type': None, 'value': [0, 1, 2]},\n",
       "  'status': 'ok'},\n",
       " {'eval_time': 1519440809.783704,\n",
       "  'loss': 7.755456668056484,\n",
       "  'other_stuff': {'type': None, 'value': [0, 1, 2]},\n",
       "  'status': 'ok'},\n",
       " {'eval_time': 1519440809.784584,\n",
       "  'loss': 0.9018906521503091,\n",
       "  'other_stuff': {'type': None, 'value': [0, 1, 2]},\n",
       "  'status': 'ok'},\n",
       " {'eval_time': 1519440809.7855942,\n",
       "  'loss': 68.0528085117524,\n",
       "  'other_stuff': {'type': None, 'value': [0, 1, 2]},\n",
       "  'status': 'ok'},\n",
       " {'eval_time': 1519440809.786459,\n",
       "  'loss': 25.933241620055128,\n",
       "  'other_stuff': {'type': None, 'value': [0, 1, 2]},\n",
       "  'status': 'ok'},\n",
       " {'eval_time': 1519440809.7873569,\n",
       "  'loss': 2.7613318930711177,\n",
       "  'other_stuff': {'type': None, 'value': [0, 1, 2]},\n",
       "  'status': 'ok'},\n",
       " {'eval_time': 1519440809.788237,\n",
       "  'loss': 26.857306873613776,\n",
       "  'other_stuff': {'type': None, 'value': [0, 1, 2]},\n",
       "  'status': 'ok'},\n",
       " {'eval_time': 1519440809.7891479,\n",
       "  'loss': 53.75296124838928,\n",
       "  'other_stuff': {'type': None, 'value': [0, 1, 2]},\n",
       "  'status': 'ok'},\n",
       " {'eval_time': 1519440809.790261,\n",
       "  'loss': 0.11935492510952647,\n",
       "  'other_stuff': {'type': None, 'value': [0, 1, 2]},\n",
       "  'status': 'ok'},\n",
       " {'eval_time': 1519440809.791223,\n",
       "  'loss': 60.365784666272035,\n",
       "  'other_stuff': {'type': None, 'value': [0, 1, 2]},\n",
       "  'status': 'ok'},\n",
       " {'eval_time': 1519440809.7921238,\n",
       "  'loss': 18.75010785969965,\n",
       "  'other_stuff': {'type': None, 'value': [0, 1, 2]},\n",
       "  'status': 'ok'},\n",
       " {'eval_time': 1519440809.793,\n",
       "  'loss': 19.007288735483264,\n",
       "  'other_stuff': {'type': None, 'value': [0, 1, 2]},\n",
       "  'status': 'ok'},\n",
       " {'eval_time': 1519440809.803046,\n",
       "  'loss': 0.3979902619257113,\n",
       "  'other_stuff': {'type': None, 'value': [0, 1, 2]},\n",
       "  'status': 'ok'},\n",
       " {'eval_time': 1519440809.805702,\n",
       "  'loss': 1.635773276220732,\n",
       "  'other_stuff': {'type': None, 'value': [0, 1, 2]},\n",
       "  'status': 'ok'},\n",
       " {'eval_time': 1519440809.808099,\n",
       "  'loss': 14.411252872256805,\n",
       "  'other_stuff': {'type': None, 'value': [0, 1, 2]},\n",
       "  'status': 'ok'},\n",
       " {'eval_time': 1519440809.8101819,\n",
       "  'loss': 0.21285799013981685,\n",
       "  'other_stuff': {'type': None, 'value': [0, 1, 2]},\n",
       "  'status': 'ok'},\n",
       " {'eval_time': 1519440809.812329,\n",
       "  'loss': 0.50246605911719,\n",
       "  'other_stuff': {'type': None, 'value': [0, 1, 2]},\n",
       "  'status': 'ok'},\n",
       " {'eval_time': 1519440809.814754,\n",
       "  'loss': 10.889776292741965,\n",
       "  'other_stuff': {'type': None, 'value': [0, 1, 2]},\n",
       "  'status': 'ok'},\n",
       " {'eval_time': 1519440809.817031,\n",
       "  'loss': 2.9278333845975295,\n",
       "  'other_stuff': {'type': None, 'value': [0, 1, 2]},\n",
       "  'status': 'ok'},\n",
       " {'eval_time': 1519440809.819159,\n",
       "  'loss': 4.051239902313831,\n",
       "  'other_stuff': {'type': None, 'value': [0, 1, 2]},\n",
       "  'status': 'ok'},\n",
       " {'eval_time': 1519440809.8212879,\n",
       "  'loss': 26.49467860162698,\n",
       "  'other_stuff': {'type': None, 'value': [0, 1, 2]},\n",
       "  'status': 'ok'},\n",
       " {'eval_time': 1519440809.823332,\n",
       "  'loss': 0.012077119866098942,\n",
       "  'other_stuff': {'type': None, 'value': [0, 1, 2]},\n",
       "  'status': 'ok'},\n",
       " {'eval_time': 1519440809.825377,\n",
       "  'loss': 9.417442724504355,\n",
       "  'other_stuff': {'type': None, 'value': [0, 1, 2]},\n",
       "  'status': 'ok'},\n",
       " {'eval_time': 1519440809.827894,\n",
       "  'loss': 16.744953562080624,\n",
       "  'other_stuff': {'type': None, 'value': [0, 1, 2]},\n",
       "  'status': 'ok'},\n",
       " {'eval_time': 1519440809.8302379,\n",
       "  'loss': 0.4020246217570504,\n",
       "  'other_stuff': {'type': None, 'value': [0, 1, 2]},\n",
       "  'status': 'ok'},\n",
       " {'eval_time': 1519440809.832319,\n",
       "  'loss': 45.64521286418332,\n",
       "  'other_stuff': {'type': None, 'value': [0, 1, 2]},\n",
       "  'status': 'ok'},\n",
       " {'eval_time': 1519440809.834333,\n",
       "  'loss': 7.358795468731453,\n",
       "  'other_stuff': {'type': None, 'value': [0, 1, 2]},\n",
       "  'status': 'ok'},\n",
       " {'eval_time': 1519440809.8364758,\n",
       "  'loss': 40.979460790369124,\n",
       "  'other_stuff': {'type': None, 'value': [0, 1, 2]},\n",
       "  'status': 'ok'},\n",
       " {'eval_time': 1519440809.839242,\n",
       "  'loss': 23.344998528360357,\n",
       "  'other_stuff': {'type': None, 'value': [0, 1, 2]},\n",
       "  'status': 'ok'},\n",
       " {'eval_time': 1519440809.841322,\n",
       "  'loss': 97.26921402180575,\n",
       "  'other_stuff': {'type': None, 'value': [0, 1, 2]},\n",
       "  'status': 'ok'},\n",
       " {'eval_time': 1519440809.8433542,\n",
       "  'loss': 4.4103729273273,\n",
       "  'other_stuff': {'type': None, 'value': [0, 1, 2]},\n",
       "  'status': 'ok'},\n",
       " {'eval_time': 1519440809.845473,\n",
       "  'loss': 13.871608626740704,\n",
       "  'other_stuff': {'type': None, 'value': [0, 1, 2]},\n",
       "  'status': 'ok'},\n",
       " {'eval_time': 1519440809.8476238,\n",
       "  'loss': 1.7286875046955863,\n",
       "  'other_stuff': {'type': None, 'value': [0, 1, 2]},\n",
       "  'status': 'ok'},\n",
       " {'eval_time': 1519440809.8495958,\n",
       "  'loss': 81.0373152098319,\n",
       "  'other_stuff': {'type': None, 'value': [0, 1, 2]},\n",
       "  'status': 'ok'},\n",
       " {'eval_time': 1519440809.85174,\n",
       "  'loss': 34.94113965567269,\n",
       "  'other_stuff': {'type': None, 'value': [0, 1, 2]},\n",
       "  'status': 'ok'},\n",
       " {'eval_time': 1519440809.853798,\n",
       "  'loss': 0.061163132594075915,\n",
       "  'other_stuff': {'type': None, 'value': [0, 1, 2]},\n",
       "  'status': 'ok'},\n",
       " {'eval_time': 1519440809.8558478,\n",
       "  'loss': 3.9417787703990417,\n",
       "  'other_stuff': {'type': None, 'value': [0, 1, 2]},\n",
       "  'status': 'ok'},\n",
       " {'eval_time': 1519440809.857883,\n",
       "  'loss': 49.14875991685076,\n",
       "  'other_stuff': {'type': None, 'value': [0, 1, 2]},\n",
       "  'status': 'ok'},\n",
       " {'eval_time': 1519440809.859933,\n",
       "  'loss': 2.091077324932998,\n",
       "  'other_stuff': {'type': None, 'value': [0, 1, 2]},\n",
       "  'status': 'ok'},\n",
       " {'eval_time': 1519440809.8619862,\n",
       "  'loss': 1.6661896642281827e-05,\n",
       "  'other_stuff': {'type': None, 'value': [0, 1, 2]},\n",
       "  'status': 'ok'},\n",
       " {'eval_time': 1519440809.865456,\n",
       "  'loss': 97.57855734832684,\n",
       "  'other_stuff': {'type': None, 'value': [0, 1, 2]},\n",
       "  'status': 'ok'},\n",
       " {'eval_time': 1519440809.868064,\n",
       "  'loss': 0.4275109664113903,\n",
       "  'other_stuff': {'type': None, 'value': [0, 1, 2]},\n",
       "  'status': 'ok'},\n",
       " {'eval_time': 1519440809.871134,\n",
       "  'loss': 8.47353436089293,\n",
       "  'other_stuff': {'type': None, 'value': [0, 1, 2]},\n",
       "  'status': 'ok'},\n",
       " {'eval_time': 1519440809.873823,\n",
       "  'loss': 16.293417754454655,\n",
       "  'other_stuff': {'type': None, 'value': [0, 1, 2]},\n",
       "  'status': 'ok'},\n",
       " {'eval_time': 1519440809.87627,\n",
       "  'loss': 33.550991170153175,\n",
       "  'other_stuff': {'type': None, 'value': [0, 1, 2]},\n",
       "  'status': 'ok'},\n",
       " {'eval_time': 1519440809.878433,\n",
       "  'loss': 25.347235535183934,\n",
       "  'other_stuff': {'type': None, 'value': [0, 1, 2]},\n",
       "  'status': 'ok'},\n",
       " {'eval_time': 1519440809.880527,\n",
       "  'loss': 33.850530745358014,\n",
       "  'other_stuff': {'type': None, 'value': [0, 1, 2]},\n",
       "  'status': 'ok'},\n",
       " {'eval_time': 1519440809.882711,\n",
       "  'loss': 55.47265286525921,\n",
       "  'other_stuff': {'type': None, 'value': [0, 1, 2]},\n",
       "  'status': 'ok'},\n",
       " {'eval_time': 1519440809.884877,\n",
       "  'loss': 60.20309347214851,\n",
       "  'other_stuff': {'type': None, 'value': [0, 1, 2]},\n",
       "  'status': 'ok'},\n",
       " {'eval_time': 1519440809.886989,\n",
       "  'loss': 6.18726892026907,\n",
       "  'other_stuff': {'type': None, 'value': [0, 1, 2]},\n",
       "  'status': 'ok'},\n",
       " {'eval_time': 1519440809.889106,\n",
       "  'loss': 1.8187714958394776,\n",
       "  'other_stuff': {'type': None, 'value': [0, 1, 2]},\n",
       "  'status': 'ok'},\n",
       " {'eval_time': 1519440809.8912818,\n",
       "  'loss': 17.75204631398014,\n",
       "  'other_stuff': {'type': None, 'value': [0, 1, 2]},\n",
       "  'status': 'ok'},\n",
       " {'eval_time': 1519440809.8936121,\n",
       "  'loss': 11.383934154412175,\n",
       "  'other_stuff': {'type': None, 'value': [0, 1, 2]},\n",
       "  'status': 'ok'},\n",
       " {'eval_time': 1519440809.896072,\n",
       "  'loss': 82.86123181664256,\n",
       "  'other_stuff': {'type': None, 'value': [0, 1, 2]},\n",
       "  'status': 'ok'},\n",
       " {'eval_time': 1519440809.8988318,\n",
       "  'loss': 0.06719531391067193,\n",
       "  'other_stuff': {'type': None, 'value': [0, 1, 2]},\n",
       "  'status': 'ok'},\n",
       " {'eval_time': 1519440809.901668,\n",
       "  'loss': 11.712067793629947,\n",
       "  'other_stuff': {'type': None, 'value': [0, 1, 2]},\n",
       "  'status': 'ok'},\n",
       " {'eval_time': 1519440809.903977,\n",
       "  'loss': 5.838782763314853,\n",
       "  'other_stuff': {'type': None, 'value': [0, 1, 2]},\n",
       "  'status': 'ok'},\n",
       " {'eval_time': 1519440809.906456,\n",
       "  'loss': 0.055399573968455865,\n",
       "  'other_stuff': {'type': None, 'value': [0, 1, 2]},\n",
       "  'status': 'ok'},\n",
       " {'eval_time': 1519440809.9086342,\n",
       "  'loss': 1.1644361391176754,\n",
       "  'other_stuff': {'type': None, 'value': [0, 1, 2]},\n",
       "  'status': 'ok'},\n",
       " {'eval_time': 1519440809.910849,\n",
       "  'loss': 1.2162137971390707,\n",
       "  'other_stuff': {'type': None, 'value': [0, 1, 2]},\n",
       "  'status': 'ok'},\n",
       " {'eval_time': 1519440809.9130821,\n",
       "  'loss': 0.007368139204912397,\n",
       "  'other_stuff': {'type': None, 'value': [0, 1, 2]},\n",
       "  'status': 'ok'},\n",
       " {'eval_time': 1519440809.91529,\n",
       "  'loss': 4.710123843008929,\n",
       "  'other_stuff': {'type': None, 'value': [0, 1, 2]},\n",
       "  'status': 'ok'},\n",
       " {'eval_time': 1519440809.917471,\n",
       "  'loss': 3.5343327216157703,\n",
       "  'other_stuff': {'type': None, 'value': [0, 1, 2]},\n",
       "  'status': 'ok'},\n",
       " {'eval_time': 1519440809.919615,\n",
       "  'loss': 2.445258568937596,\n",
       "  'other_stuff': {'type': None, 'value': [0, 1, 2]},\n",
       "  'status': 'ok'},\n",
       " {'eval_time': 1519440809.921767,\n",
       "  'loss': 0.9051563559465609,\n",
       "  'other_stuff': {'type': None, 'value': [0, 1, 2]},\n",
       "  'status': 'ok'},\n",
       " {'eval_time': 1519440809.924008,\n",
       "  'loss': 7.172689542765932,\n",
       "  'other_stuff': {'type': None, 'value': [0, 1, 2]},\n",
       "  'status': 'ok'},\n",
       " {'eval_time': 1519440809.926183,\n",
       "  'loss': 20.933327288395372,\n",
       "  'other_stuff': {'type': None, 'value': [0, 1, 2]},\n",
       "  'status': 'ok'},\n",
       " {'eval_time': 1519440809.928449,\n",
       "  'loss': 7.745132770240235,\n",
       "  'other_stuff': {'type': None, 'value': [0, 1, 2]},\n",
       "  'status': 'ok'},\n",
       " {'eval_time': 1519440809.930665,\n",
       "  'loss': 23.86126575864218,\n",
       "  'other_stuff': {'type': None, 'value': [0, 1, 2]},\n",
       "  'status': 'ok'},\n",
       " {'eval_time': 1519440809.932863,\n",
       "  'loss': 0.007511146795998028,\n",
       "  'other_stuff': {'type': None, 'value': [0, 1, 2]},\n",
       "  'status': 'ok'},\n",
       " {'eval_time': 1519440809.935071,\n",
       "  'loss': 0.38647185176877386,\n",
       "  'other_stuff': {'type': None, 'value': [0, 1, 2]},\n",
       "  'status': 'ok'},\n",
       " {'eval_time': 1519440809.937251,\n",
       "  'loss': 5.222231341141426,\n",
       "  'other_stuff': {'type': None, 'value': [0, 1, 2]},\n",
       "  'status': 'ok'},\n",
       " {'eval_time': 1519440809.939538,\n",
       "  'loss': 11.811422046670584,\n",
       "  'other_stuff': {'type': None, 'value': [0, 1, 2]},\n",
       "  'status': 'ok'},\n",
       " {'eval_time': 1519440809.941646,\n",
       "  'loss': 31.89629957149112,\n",
       "  'other_stuff': {'type': None, 'value': [0, 1, 2]},\n",
       "  'status': 'ok'},\n",
       " {'eval_time': 1519440809.943771,\n",
       "  'loss': 12.638034694061144,\n",
       "  'other_stuff': {'type': None, 'value': [0, 1, 2]},\n",
       "  'status': 'ok'},\n",
       " {'eval_time': 1519440809.9459672,\n",
       "  'loss': 41.0864725783763,\n",
       "  'other_stuff': {'type': None, 'value': [0, 1, 2]},\n",
       "  'status': 'ok'},\n",
       " {'eval_time': 1519440809.948108,\n",
       "  'loss': 2.8741536967377956,\n",
       "  'other_stuff': {'type': None, 'value': [0, 1, 2]},\n",
       "  'status': 'ok'},\n",
       " {'eval_time': 1519440809.95026,\n",
       "  'loss': 0.3374580459340278,\n",
       "  'other_stuff': {'type': None, 'value': [0, 1, 2]},\n",
       "  'status': 'ok'},\n",
       " {'eval_time': 1519440809.952393,\n",
       "  'loss': 20.25573536571268,\n",
       "  'other_stuff': {'type': None, 'value': [0, 1, 2]},\n",
       "  'status': 'ok'},\n",
       " {'eval_time': 1519440809.954601,\n",
       "  'loss': 9.501995501680756,\n",
       "  'other_stuff': {'type': None, 'value': [0, 1, 2]},\n",
       "  'status': 'ok'},\n",
       " {'eval_time': 1519440809.956855,\n",
       "  'loss': 0.7616751508263908,\n",
       "  'other_stuff': {'type': None, 'value': [0, 1, 2]},\n",
       "  'status': 'ok'},\n",
       " {'eval_time': 1519440809.959154,\n",
       "  'loss': 0.007427520699599616,\n",
       "  'other_stuff': {'type': None, 'value': [0, 1, 2]},\n",
       "  'status': 'ok'},\n",
       " {'eval_time': 1519440809.961432,\n",
       "  'loss': 32.570366827963944,\n",
       "  'other_stuff': {'type': None, 'value': [0, 1, 2]},\n",
       "  'status': 'ok'},\n",
       " {'eval_time': 1519440809.965278,\n",
       "  'loss': 2.9102624626094085,\n",
       "  'other_stuff': {'type': None, 'value': [0, 1, 2]},\n",
       "  'status': 'ok'},\n",
       " {'eval_time': 1519440809.968053,\n",
       "  'loss': 16.01352970904193,\n",
       "  'other_stuff': {'type': None, 'value': [0, 1, 2]},\n",
       "  'status': 'ok'},\n",
       " {'eval_time': 1519440809.970668,\n",
       "  'loss': 52.8122316449015,\n",
       "  'other_stuff': {'type': None, 'value': [0, 1, 2]},\n",
       "  'status': 'ok'},\n",
       " {'eval_time': 1519440809.9732769,\n",
       "  'loss': 9.058573229022246,\n",
       "  'other_stuff': {'type': None, 'value': [0, 1, 2]},\n",
       "  'status': 'ok'},\n",
       " {'eval_time': 1519440809.975571,\n",
       "  'loss': 16.31996894711866,\n",
       "  'other_stuff': {'type': None, 'value': [0, 1, 2]},\n",
       "  'status': 'ok'},\n",
       " {'eval_time': 1519440809.9778109,\n",
       "  'loss': 75.99292535764386,\n",
       "  'other_stuff': {'type': None, 'value': [0, 1, 2]},\n",
       "  'status': 'ok'},\n",
       " {'eval_time': 1519440809.980035,\n",
       "  'loss': 0.13846351294893475,\n",
       "  'other_stuff': {'type': None, 'value': [0, 1, 2]},\n",
       "  'status': 'ok'},\n",
       " {'eval_time': 1519440809.982239,\n",
       "  'loss': 1.2393666326383908,\n",
       "  'other_stuff': {'type': None, 'value': [0, 1, 2]},\n",
       "  'status': 'ok'},\n",
       " {'eval_time': 1519440809.984545,\n",
       "  'loss': 7.731470174485894,\n",
       "  'other_stuff': {'type': None, 'value': [0, 1, 2]},\n",
       "  'status': 'ok'}]"
      ]
     },
     "execution_count": 26,
     "metadata": {},
     "output_type": "execute_result"
    }
   ],
   "source": [
    "trials.results"
   ]
  },
  {
   "cell_type": "code",
   "execution_count": 34,
   "metadata": {},
   "outputs": [
    {
     "data": {
      "text/plain": [
       "<function time.time>"
      ]
     },
     "execution_count": 34,
     "metadata": {},
     "output_type": "execute_result"
    }
   ],
   "source": [
    "pickle.loads(trials.trial_attachments(trials.trials[5])['time_module'])"
   ]
  },
  {
   "cell_type": "code",
   "execution_count": 6,
   "metadata": {},
   "outputs": [
    {
     "data": {
      "text/plain": [
       "{'x': -1.5817943307218292}"
      ]
     },
     "execution_count": 6,
     "metadata": {},
     "output_type": "execute_result"
    }
   ],
   "source": [
    "import math\n",
    "from hyperopt import fmin, tpe, hp, Trials\n",
    "\n",
    "trials = Trials()\n",
    "best = fmin(math.sin, hp.uniform('x', -2, 2), trials=trials, algo=tpe.suggest, max_evals=100)\n",
    "best"
   ]
  },
  {
   "cell_type": "markdown",
   "metadata": {},
   "source": [
    "\n",
    "mongod --dbpath . --port 1234\n"
   ]
  },
  {
   "cell_type": "code",
   "execution_count": 11,
   "metadata": {},
   "outputs": [
    {
     "name": "stderr",
     "output_type": "stream",
     "text": [
      "over-writing old domain trials attachment\n"
     ]
    },
    {
     "data": {
      "text/plain": [
       "{'x': -1.5278114955453188}"
      ]
     },
     "execution_count": 11,
     "metadata": {},
     "output_type": "execute_result"
    }
   ],
   "source": [
    "import math\n",
    "trials = MongoTrials('mongo://localhost:1234/foo_db/jobs', exp_key='exp1')\n",
    "best = fmin(math.sin, hp.uniform('x', -2, 2), trials=trials, algo=tpe.suggest, max_evals=10)\n",
    "best"
   ]
  },
  {
   "cell_type": "markdown",
   "metadata": {},
   "source": [
    "While the fmin call in the script above is blocked, open a new shell and type\n",
    "\n",
    "hyperopt-mongo-worker --mongo=localhost:1234/foo_db --poll-interval=0.1"
   ]
  },
  {
   "cell_type": "code",
   "execution_count": null,
   "metadata": {
    "collapsed": true
   },
   "outputs": [],
   "source": []
  },
  {
   "cell_type": "code",
   "execution_count": 38,
   "metadata": {
    "collapsed": true
   },
   "outputs": [],
   "source": [
    "from hpsklearn import HyperoptEstimator, any_classifier, any_preprocessing\n",
    "from sklearn.datasets import load_iris\n",
    "from hyperopt import tpe\n",
    "import numpy as np\n"
   ]
  },
  {
   "cell_type": "code",
   "execution_count": 36,
   "metadata": {
    "collapsed": true
   },
   "outputs": [],
   "source": [
    "iris = load_iris()\n",
    "\n",
    "X = iris.data\n",
    "y = iris.target\n",
    "\n",
    "test_size = int(0.2 * len(y))\n",
    "np.random.seed(2018)\n",
    "indices = np.random.permutation(len(X))\n",
    "X_train = X[indices[:-test_size]]\n",
    "y_train = y[indices[:-test_size]]\n",
    "X_valid = X[indices[-test_size:]]\n",
    "y_valid = y[indices[-test_size:]]\n"
   ]
  },
  {
   "cell_type": "code",
   "execution_count": 44,
   "metadata": {
    "collapsed": true
   },
   "outputs": [],
   "source": [
    "estim = HyperoptEstimator(classifier = any_classifier('my_clf'),\n",
    "                         preprocessing = any_preprocessing('my_pre'),\n",
    "                         algo = tpe.suggest,\n",
    "                         max_evals = 100,\n",
    "                         trial_timeout = 120)"
   ]
  },
  {
   "cell_type": "code",
   "execution_count": 45,
   "metadata": {},
   "outputs": [
    {
     "name": "stderr",
     "output_type": "stream",
     "text": [
      "/Users/finup/anaconda3/lib/python3.6/site-packages/sklearn/linear_model/stochastic_gradient.py:117: DeprecationWarning: n_iter parameter is deprecated in 0.19 and will be removed in 0.21. Use max_iter and tol instead.\n",
      "  DeprecationWarning)\n"
     ]
    },
    {
     "ename": "TypeError",
     "evalue": "'str' object is not callable",
     "output_type": "error",
     "traceback": [
      "\u001b[0;31m---------------------------------------------------------------------------\u001b[0m",
      "\u001b[0;31mTypeError\u001b[0m                                 Traceback (most recent call last)",
      "\u001b[0;32m<ipython-input-45-a38dd140b294>\u001b[0m in \u001b[0;36m<module>\u001b[0;34m()\u001b[0m\n\u001b[0;32m----> 1\u001b[0;31m \u001b[0mestim\u001b[0m\u001b[0;34m.\u001b[0m\u001b[0mfit\u001b[0m\u001b[0;34m(\u001b[0m\u001b[0mX_train\u001b[0m\u001b[0;34m,\u001b[0m \u001b[0my_train\u001b[0m\u001b[0;34m)\u001b[0m\u001b[0;34m\u001b[0m\u001b[0m\n\u001b[0m",
      "\u001b[0;32m~/anaconda3/lib/python3.6/site-packages/hpsklearn/estimator.py\u001b[0m in \u001b[0;36mfit\u001b[0;34m(self, X, y, EX_list, valid_size, n_folds, cv_shuffle, warm_start, random_state, weights)\u001b[0m\n\u001b[1;32m    744\u001b[0m             increment = min(self.fit_increment,\n\u001b[1;32m    745\u001b[0m                             adjusted_max_evals - len(self.trials.trials))\n\u001b[0;32m--> 746\u001b[0;31m             \u001b[0mfit_iter\u001b[0m\u001b[0;34m.\u001b[0m\u001b[0msend\u001b[0m\u001b[0;34m(\u001b[0m\u001b[0mincrement\u001b[0m\u001b[0;34m)\u001b[0m\u001b[0;34m\u001b[0m\u001b[0m\n\u001b[0m\u001b[1;32m    747\u001b[0m             \u001b[0;32mif\u001b[0m \u001b[0mfilename\u001b[0m \u001b[0;32mis\u001b[0m \u001b[0;32mnot\u001b[0m \u001b[0;32mNone\u001b[0m\u001b[0;34m:\u001b[0m\u001b[0;34m\u001b[0m\u001b[0m\n\u001b[1;32m    748\u001b[0m                 \u001b[0;32mwith\u001b[0m \u001b[0mopen\u001b[0m\u001b[0;34m(\u001b[0m\u001b[0mfilename\u001b[0m\u001b[0;34m,\u001b[0m \u001b[0;34m'wb'\u001b[0m\u001b[0;34m)\u001b[0m \u001b[0;32mas\u001b[0m \u001b[0mdump_file\u001b[0m\u001b[0;34m:\u001b[0m\u001b[0;34m\u001b[0m\u001b[0m\n",
      "\u001b[0;32m~/anaconda3/lib/python3.6/site-packages/hpsklearn/estimator.py\u001b[0m in \u001b[0;36mfit_iter\u001b[0;34m(self, X, y, EX_list, valid_size, n_folds, cv_shuffle, warm_start, random_state, weights, increment)\u001b[0m\n\u001b[1;32m    655\u001b[0m                               \u001b[0;31m#    so we notice them.\u001b[0m\u001b[0;34m\u001b[0m\u001b[0;34m\u001b[0m\u001b[0m\n\u001b[1;32m    656\u001b[0m                               \u001b[0mcatch_eval_exceptions\u001b[0m\u001b[0;34m=\u001b[0m\u001b[0;32mFalse\u001b[0m\u001b[0;34m,\u001b[0m\u001b[0;34m\u001b[0m\u001b[0m\n\u001b[0;32m--> 657\u001b[0;31m                               \u001b[0mreturn_argmin\u001b[0m\u001b[0;34m=\u001b[0m\u001b[0;32mFalse\u001b[0m\u001b[0;34m,\u001b[0m \u001b[0;31m# -- in case no success so far\u001b[0m\u001b[0;34m\u001b[0m\u001b[0m\n\u001b[0m\u001b[1;32m    658\u001b[0m                              )\n\u001b[1;32m    659\u001b[0m             \u001b[0;32melse\u001b[0m\u001b[0;34m:\u001b[0m\u001b[0;34m\u001b[0m\u001b[0m\n",
      "\u001b[0;32m~/anaconda3/lib/python3.6/site-packages/hyperopt/fmin.py\u001b[0m in \u001b[0;36mfmin\u001b[0;34m(fn, space, algo, max_evals, trials, rstate, allow_trials_fmin, pass_expr_memo_ctrl, catch_eval_exceptions, verbose, return_argmin)\u001b[0m\n\u001b[1;32m    305\u001b[0m             \u001b[0mverbose\u001b[0m\u001b[0;34m=\u001b[0m\u001b[0mverbose\u001b[0m\u001b[0;34m,\u001b[0m\u001b[0;34m\u001b[0m\u001b[0m\n\u001b[1;32m    306\u001b[0m             \u001b[0mcatch_eval_exceptions\u001b[0m\u001b[0;34m=\u001b[0m\u001b[0mcatch_eval_exceptions\u001b[0m\u001b[0;34m,\u001b[0m\u001b[0;34m\u001b[0m\u001b[0m\n\u001b[0;32m--> 307\u001b[0;31m             \u001b[0mreturn_argmin\u001b[0m\u001b[0;34m=\u001b[0m\u001b[0mreturn_argmin\u001b[0m\u001b[0;34m,\u001b[0m\u001b[0;34m\u001b[0m\u001b[0m\n\u001b[0m\u001b[1;32m    308\u001b[0m         )\n\u001b[1;32m    309\u001b[0m \u001b[0;34m\u001b[0m\u001b[0m\n",
      "\u001b[0;32m~/anaconda3/lib/python3.6/site-packages/hyperopt/base.py\u001b[0m in \u001b[0;36mfmin\u001b[0;34m(self, fn, space, algo, max_evals, rstate, verbose, pass_expr_memo_ctrl, catch_eval_exceptions, return_argmin)\u001b[0m\n\u001b[1;32m    633\u001b[0m             \u001b[0mpass_expr_memo_ctrl\u001b[0m\u001b[0;34m=\u001b[0m\u001b[0mpass_expr_memo_ctrl\u001b[0m\u001b[0;34m,\u001b[0m\u001b[0;34m\u001b[0m\u001b[0m\n\u001b[1;32m    634\u001b[0m             \u001b[0mcatch_eval_exceptions\u001b[0m\u001b[0;34m=\u001b[0m\u001b[0mcatch_eval_exceptions\u001b[0m\u001b[0;34m,\u001b[0m\u001b[0;34m\u001b[0m\u001b[0m\n\u001b[0;32m--> 635\u001b[0;31m             return_argmin=return_argmin)\n\u001b[0m\u001b[1;32m    636\u001b[0m \u001b[0;34m\u001b[0m\u001b[0m\n\u001b[1;32m    637\u001b[0m \u001b[0;34m\u001b[0m\u001b[0m\n",
      "\u001b[0;32m~/anaconda3/lib/python3.6/site-packages/hyperopt/fmin.py\u001b[0m in \u001b[0;36mfmin\u001b[0;34m(fn, space, algo, max_evals, trials, rstate, allow_trials_fmin, pass_expr_memo_ctrl, catch_eval_exceptions, verbose, return_argmin)\u001b[0m\n\u001b[1;32m    318\u001b[0m                     verbose=verbose)\n\u001b[1;32m    319\u001b[0m     \u001b[0mrval\u001b[0m\u001b[0;34m.\u001b[0m\u001b[0mcatch_eval_exceptions\u001b[0m \u001b[0;34m=\u001b[0m \u001b[0mcatch_eval_exceptions\u001b[0m\u001b[0;34m\u001b[0m\u001b[0m\n\u001b[0;32m--> 320\u001b[0;31m     \u001b[0mrval\u001b[0m\u001b[0;34m.\u001b[0m\u001b[0mexhaust\u001b[0m\u001b[0;34m(\u001b[0m\u001b[0;34m)\u001b[0m\u001b[0;34m\u001b[0m\u001b[0m\n\u001b[0m\u001b[1;32m    321\u001b[0m     \u001b[0;32mif\u001b[0m \u001b[0mreturn_argmin\u001b[0m\u001b[0;34m:\u001b[0m\u001b[0;34m\u001b[0m\u001b[0m\n\u001b[1;32m    322\u001b[0m         \u001b[0;32mreturn\u001b[0m \u001b[0mtrials\u001b[0m\u001b[0;34m.\u001b[0m\u001b[0margmin\u001b[0m\u001b[0;34m\u001b[0m\u001b[0m\n",
      "\u001b[0;32m~/anaconda3/lib/python3.6/site-packages/hyperopt/fmin.py\u001b[0m in \u001b[0;36mexhaust\u001b[0;34m(self)\u001b[0m\n\u001b[1;32m    197\u001b[0m     \u001b[0;32mdef\u001b[0m \u001b[0mexhaust\u001b[0m\u001b[0;34m(\u001b[0m\u001b[0mself\u001b[0m\u001b[0;34m)\u001b[0m\u001b[0;34m:\u001b[0m\u001b[0;34m\u001b[0m\u001b[0m\n\u001b[1;32m    198\u001b[0m         \u001b[0mn_done\u001b[0m \u001b[0;34m=\u001b[0m \u001b[0mlen\u001b[0m\u001b[0;34m(\u001b[0m\u001b[0mself\u001b[0m\u001b[0;34m.\u001b[0m\u001b[0mtrials\u001b[0m\u001b[0;34m)\u001b[0m\u001b[0;34m\u001b[0m\u001b[0m\n\u001b[0;32m--> 199\u001b[0;31m         \u001b[0mself\u001b[0m\u001b[0;34m.\u001b[0m\u001b[0mrun\u001b[0m\u001b[0;34m(\u001b[0m\u001b[0mself\u001b[0m\u001b[0;34m.\u001b[0m\u001b[0mmax_evals\u001b[0m \u001b[0;34m-\u001b[0m \u001b[0mn_done\u001b[0m\u001b[0;34m,\u001b[0m \u001b[0mblock_until_done\u001b[0m\u001b[0;34m=\u001b[0m\u001b[0mself\u001b[0m\u001b[0;34m.\u001b[0m\u001b[0masync\u001b[0m\u001b[0;34m)\u001b[0m\u001b[0;34m\u001b[0m\u001b[0m\n\u001b[0m\u001b[1;32m    200\u001b[0m         \u001b[0mself\u001b[0m\u001b[0;34m.\u001b[0m\u001b[0mtrials\u001b[0m\u001b[0;34m.\u001b[0m\u001b[0mrefresh\u001b[0m\u001b[0;34m(\u001b[0m\u001b[0;34m)\u001b[0m\u001b[0;34m\u001b[0m\u001b[0m\n\u001b[1;32m    201\u001b[0m         \u001b[0;32mreturn\u001b[0m \u001b[0mself\u001b[0m\u001b[0;34m\u001b[0m\u001b[0m\n",
      "\u001b[0;32m~/anaconda3/lib/python3.6/site-packages/hyperopt/fmin.py\u001b[0m in \u001b[0;36mrun\u001b[0;34m(self, N, block_until_done)\u001b[0m\n\u001b[1;32m    171\u001b[0m             \u001b[0;32melse\u001b[0m\u001b[0;34m:\u001b[0m\u001b[0;34m\u001b[0m\u001b[0m\n\u001b[1;32m    172\u001b[0m                 \u001b[0;31m# -- loop over trials and do the jobs directly\u001b[0m\u001b[0;34m\u001b[0m\u001b[0;34m\u001b[0m\u001b[0m\n\u001b[0;32m--> 173\u001b[0;31m                 \u001b[0mself\u001b[0m\u001b[0;34m.\u001b[0m\u001b[0mserial_evaluate\u001b[0m\u001b[0;34m(\u001b[0m\u001b[0;34m)\u001b[0m\u001b[0;34m\u001b[0m\u001b[0m\n\u001b[0m\u001b[1;32m    174\u001b[0m \u001b[0;34m\u001b[0m\u001b[0m\n\u001b[1;32m    175\u001b[0m             \u001b[0;32mif\u001b[0m \u001b[0mstopped\u001b[0m\u001b[0;34m:\u001b[0m\u001b[0;34m\u001b[0m\u001b[0m\n",
      "\u001b[0;32m~/anaconda3/lib/python3.6/site-packages/hyperopt/fmin.py\u001b[0m in \u001b[0;36mserial_evaluate\u001b[0;34m(self, N)\u001b[0m\n\u001b[1;32m     90\u001b[0m                 \u001b[0mctrl\u001b[0m \u001b[0;34m=\u001b[0m \u001b[0mbase\u001b[0m\u001b[0;34m.\u001b[0m\u001b[0mCtrl\u001b[0m\u001b[0;34m(\u001b[0m\u001b[0mself\u001b[0m\u001b[0;34m.\u001b[0m\u001b[0mtrials\u001b[0m\u001b[0;34m,\u001b[0m \u001b[0mcurrent_trial\u001b[0m\u001b[0;34m=\u001b[0m\u001b[0mtrial\u001b[0m\u001b[0;34m)\u001b[0m\u001b[0;34m\u001b[0m\u001b[0m\n\u001b[1;32m     91\u001b[0m                 \u001b[0;32mtry\u001b[0m\u001b[0;34m:\u001b[0m\u001b[0;34m\u001b[0m\u001b[0m\n\u001b[0;32m---> 92\u001b[0;31m                     \u001b[0mresult\u001b[0m \u001b[0;34m=\u001b[0m \u001b[0mself\u001b[0m\u001b[0;34m.\u001b[0m\u001b[0mdomain\u001b[0m\u001b[0;34m.\u001b[0m\u001b[0mevaluate\u001b[0m\u001b[0;34m(\u001b[0m\u001b[0mspec\u001b[0m\u001b[0;34m,\u001b[0m \u001b[0mctrl\u001b[0m\u001b[0;34m)\u001b[0m\u001b[0;34m\u001b[0m\u001b[0m\n\u001b[0m\u001b[1;32m     93\u001b[0m                 \u001b[0;32mexcept\u001b[0m \u001b[0mException\u001b[0m \u001b[0;32mas\u001b[0m \u001b[0me\u001b[0m\u001b[0;34m:\u001b[0m\u001b[0;34m\u001b[0m\u001b[0m\n\u001b[1;32m     94\u001b[0m                     \u001b[0mlogger\u001b[0m\u001b[0;34m.\u001b[0m\u001b[0minfo\u001b[0m\u001b[0;34m(\u001b[0m\u001b[0;34m'job exception: %s'\u001b[0m \u001b[0;34m%\u001b[0m \u001b[0mstr\u001b[0m\u001b[0;34m(\u001b[0m\u001b[0me\u001b[0m\u001b[0;34m)\u001b[0m\u001b[0;34m)\u001b[0m\u001b[0;34m\u001b[0m\u001b[0m\n",
      "\u001b[0;32m~/anaconda3/lib/python3.6/site-packages/hyperopt/base.py\u001b[0m in \u001b[0;36mevaluate\u001b[0;34m(self, config, ctrl, attach_attachments)\u001b[0m\n\u001b[1;32m    838\u001b[0m                 \u001b[0mmemo\u001b[0m\u001b[0;34m=\u001b[0m\u001b[0mmemo\u001b[0m\u001b[0;34m,\u001b[0m\u001b[0;34m\u001b[0m\u001b[0m\n\u001b[1;32m    839\u001b[0m                 print_node_on_error=self.rec_eval_print_node_on_error)\n\u001b[0;32m--> 840\u001b[0;31m             \u001b[0mrval\u001b[0m \u001b[0;34m=\u001b[0m \u001b[0mself\u001b[0m\u001b[0;34m.\u001b[0m\u001b[0mfn\u001b[0m\u001b[0;34m(\u001b[0m\u001b[0mpyll_rval\u001b[0m\u001b[0;34m)\u001b[0m\u001b[0;34m\u001b[0m\u001b[0m\n\u001b[0m\u001b[1;32m    841\u001b[0m \u001b[0;34m\u001b[0m\u001b[0m\n\u001b[1;32m    842\u001b[0m         \u001b[0;32mif\u001b[0m \u001b[0misinstance\u001b[0m\u001b[0;34m(\u001b[0m\u001b[0mrval\u001b[0m\u001b[0;34m,\u001b[0m \u001b[0;34m(\u001b[0m\u001b[0mfloat\u001b[0m\u001b[0;34m,\u001b[0m \u001b[0mint\u001b[0m\u001b[0;34m,\u001b[0m \u001b[0mnp\u001b[0m\u001b[0;34m.\u001b[0m\u001b[0mnumber\u001b[0m\u001b[0;34m)\u001b[0m\u001b[0;34m)\u001b[0m\u001b[0;34m:\u001b[0m\u001b[0;34m\u001b[0m\u001b[0m\n",
      "\u001b[0;32m~/anaconda3/lib/python3.6/site-packages/hpsklearn/estimator.py\u001b[0m in \u001b[0;36mfn_with_timeout\u001b[0;34m(*args, **kwargs)\u001b[0m\n\u001b[1;32m    618\u001b[0m             \u001b[0;32massert\u001b[0m \u001b[0mfn_rval\u001b[0m\u001b[0;34m[\u001b[0m\u001b[0;36m0\u001b[0m\u001b[0;34m]\u001b[0m \u001b[0;32min\u001b[0m \u001b[0;34m(\u001b[0m\u001b[0;34m'raise'\u001b[0m\u001b[0;34m,\u001b[0m \u001b[0;34m'return'\u001b[0m\u001b[0;34m)\u001b[0m\u001b[0;34m\u001b[0m\u001b[0m\n\u001b[1;32m    619\u001b[0m             \u001b[0;32mif\u001b[0m \u001b[0mfn_rval\u001b[0m\u001b[0;34m[\u001b[0m\u001b[0;36m0\u001b[0m\u001b[0;34m]\u001b[0m \u001b[0;34m==\u001b[0m \u001b[0;34m'raise'\u001b[0m\u001b[0;34m:\u001b[0m\u001b[0;34m\u001b[0m\u001b[0m\n\u001b[0;32m--> 620\u001b[0;31m                 \u001b[0;32mraise\u001b[0m \u001b[0mfn_rval\u001b[0m\u001b[0;34m[\u001b[0m\u001b[0;36m1\u001b[0m\u001b[0;34m]\u001b[0m\u001b[0;34m\u001b[0m\u001b[0m\n\u001b[0m\u001b[1;32m    621\u001b[0m \u001b[0;34m\u001b[0m\u001b[0m\n\u001b[1;32m    622\u001b[0m             \u001b[0;31m# -- remove potentially large objects from the rval\u001b[0m\u001b[0;34m\u001b[0m\u001b[0;34m\u001b[0m\u001b[0m\n",
      "\u001b[0;31mTypeError\u001b[0m: 'str' object is not callable"
     ]
    }
   ],
   "source": [
    "estim.fit(X_train, y_train)"
   ]
  },
  {
   "cell_type": "code",
   "execution_count": 42,
   "metadata": {},
   "outputs": [
    {
     "data": {
      "text/plain": [
       "1.0"
      ]
     },
     "execution_count": 42,
     "metadata": {},
     "output_type": "execute_result"
    }
   ],
   "source": [
    "estim.score(X_valid, y_valid)"
   ]
  },
  {
   "cell_type": "code",
   "execution_count": 43,
   "metadata": {},
   "outputs": [
    {
     "data": {
      "text/plain": [
       "{'ex_preprocs': (),\n",
       " 'learner': GradientBoostingClassifier(criterion='friedman_mse', init=None,\n",
       "               learning_rate=0.007169677587431147, loss='deviance',\n",
       "               max_depth=4, max_features=0.010210188147896204,\n",
       "               max_leaf_nodes=None, min_impurity_decrease=0.0,\n",
       "               min_impurity_split=None, min_samples_leaf=3,\n",
       "               min_samples_split=2, min_weight_fraction_leaf=0.0,\n",
       "               n_estimators=501, presort='auto', random_state=3,\n",
       "               subsample=0.8497697440268277, verbose=0, warm_start=False),\n",
       " 'preprocs': (Normalizer(copy=True, norm='l2'),)}"
      ]
     },
     "execution_count": 43,
     "metadata": {},
     "output_type": "execute_result"
    }
   ],
   "source": [
    "estim.best_model()"
   ]
  },
  {
   "cell_type": "code",
   "execution_count": null,
   "metadata": {
    "collapsed": true
   },
   "outputs": [],
   "source": []
  }
 ],
 "metadata": {
  "kernelspec": {
   "display_name": "Python 3",
   "language": "python",
   "name": "python3"
  },
  "language_info": {
   "codemirror_mode": {
    "name": "ipython",
    "version": 3
   },
   "file_extension": ".py",
   "mimetype": "text/x-python",
   "name": "python",
   "nbconvert_exporter": "python",
   "pygments_lexer": "ipython3",
   "version": "3.6.3"
  }
 },
 "nbformat": 4,
 "nbformat_minor": 2
}
