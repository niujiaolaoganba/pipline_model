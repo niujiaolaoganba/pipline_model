{
 "cells": [
  {
   "cell_type": "code",
   "execution_count": 1,
   "metadata": {
    "collapsed": true
   },
   "outputs": [],
   "source": [
    "import pandas as pd"
   ]
  },
  {
   "cell_type": "code",
   "execution_count": 2,
   "metadata": {},
   "outputs": [
    {
     "data": {
      "text/html": [
       "<div>\n",
       "<style>\n",
       "    .dataframe thead tr:only-child th {\n",
       "        text-align: right;\n",
       "    }\n",
       "\n",
       "    .dataframe thead th {\n",
       "        text-align: left;\n",
       "    }\n",
       "\n",
       "    .dataframe tbody tr th {\n",
       "        vertical-align: top;\n",
       "    }\n",
       "</style>\n",
       "<table border=\"1\" class=\"dataframe\">\n",
       "  <thead>\n",
       "    <tr style=\"text-align: right;\">\n",
       "      <th></th>\n",
       "      <th>is_reg</th>\n",
       "      <th>tags</th>\n",
       "    </tr>\n",
       "  </thead>\n",
       "  <tbody>\n",
       "    <tr>\n",
       "      <th>0</th>\n",
       "      <td>1</td>\n",
       "      <td>0ww000,0wwq00,0wce00,0qyr00,0qrw00,0eu000,0e00...</td>\n",
       "    </tr>\n",
       "    <tr>\n",
       "      <th>1</th>\n",
       "      <td>1</td>\n",
       "      <td>0wyq00,0wqu00,0qzq00,0wq000,0wuu00,0wy000,0wui...</td>\n",
       "    </tr>\n",
       "    <tr>\n",
       "      <th>2</th>\n",
       "      <td>1</td>\n",
       "      <td>0wyq00,0wq000,0wy000,0wuu00,0we000,0wui00,0qzw...</td>\n",
       "    </tr>\n",
       "    <tr>\n",
       "      <th>3</th>\n",
       "      <td>1</td>\n",
       "      <td>0ww000,0wyr00,0qrq00,0qiq00,0qew00,0qei00,0wiq...</td>\n",
       "    </tr>\n",
       "    <tr>\n",
       "      <th>4</th>\n",
       "      <td>1</td>\n",
       "      <td>0wyq00,0qyr00,0qzr00,0wuu00,0wy000,0woq00,0wo0...</td>\n",
       "    </tr>\n",
       "  </tbody>\n",
       "</table>\n",
       "</div>"
      ],
      "text/plain": [
       "   is_reg                                               tags\n",
       "0       1  0ww000,0wwq00,0wce00,0qyr00,0qrw00,0eu000,0e00...\n",
       "1       1  0wyq00,0wqu00,0qzq00,0wq000,0wuu00,0wy000,0wui...\n",
       "2       1  0wyq00,0wq000,0wy000,0wuu00,0we000,0wui00,0qzw...\n",
       "3       1  0ww000,0wyr00,0qrq00,0qiq00,0qew00,0qei00,0wiq...\n",
       "4       1  0wyq00,0qyr00,0qzr00,0wuu00,0wy000,0woq00,0wo0..."
      ]
     },
     "execution_count": 2,
     "metadata": {},
     "output_type": "execute_result"
    }
   ],
   "source": [
    "train = pd.read_csv('qz_andr.csv')\n",
    "train.head()"
   ]
  },
  {
   "cell_type": "code",
   "execution_count": 3,
   "metadata": {
    "collapsed": true
   },
   "outputs": [],
   "source": [
    "from tag_num import TagsNum\n",
    "from sklearn.feature_extraction.text import CountVectorizer\n",
    "from sklearn.pipeline import FeatureUnion\n",
    "\n",
    "combined_feature = FeatureUnion([('token', CountVectorizer()),\n",
    "                                ('count', TagsNum())])"
   ]
  },
  {
   "cell_type": "code",
   "execution_count": 4,
   "metadata": {
    "collapsed": true
   },
   "outputs": [],
   "source": [
    "X_features = combined_feature.fit(train['tags'], train['is_reg']).transform(train['tags'])"
   ]
  },
  {
   "cell_type": "code",
   "execution_count": 5,
   "metadata": {
    "collapsed": true
   },
   "outputs": [],
   "source": [
    "from sklearn.model_selection import train_test_split\n",
    "X = X_features.toarray()\n",
    "y = train['is_reg']\n",
    "\n",
    "X_train, X_valid, y_train, y_valid = train_test_split(X,y,\n",
    "                                                      stratify=y,\n",
    "                                                      test_size = 0.3,\n",
    "                                                     random_state = 123)"
   ]
  },
  {
   "cell_type": "code",
   "execution_count": 6,
   "metadata": {
    "collapsed": true
   },
   "outputs": [],
   "source": [
    "from xgboost import XGBClassifier\n",
    "\n",
    "clf = XGBClassifier(max_depth=2,\n",
    "                    learning_rate = 0.5,\n",
    "                    n_estimators= 10,\n",
    "                    subsample= 0.5,\n",
    "                    n_jobs = 8,\n",
    "                          colsample_bytree = 0.7,\n",
    "#                           {'eval_metric': 'auc'},\n",
    "                          seed = 123,\n",
    "                         )"
   ]
  },
  {
   "cell_type": "code",
   "execution_count": 19,
   "metadata": {},
   "outputs": [],
   "source": [
    "bst = XGBClassifier(n_jobs = 8, eval_metric = 'auc', random_state=123)\n",
    "params = {\n",
    "    'max_depth':[2,3,5],\n",
    "    'learning_rate':[0.01,0.05,0.1,0.5],\n",
    "    'n_estimators':[5,10,20,50],\n",
    "    'subsample':[0.3,0.5,0.7,0.9],\n",
    "    'colsample_bytree':[0.3,0.5,0.7],\n",
    "    'reg_alpha':[0,1],\n",
    "}\n",
    "\n",
    "from sklearn.model_selection import GridSearchCV\n",
    "clf_search = GridSearchCV(bst,params).fit(X, y)"
   ]
  },
  {
   "cell_type": "code",
   "execution_count": 22,
   "metadata": {},
   "outputs": [
    {
     "data": {
      "text/plain": [
       "XGBClassifier(base_score=0.5, booster='gbtree', colsample_bylevel=1,\n",
       "       colsample_bytree=0.5, eval_metric='auc', gamma=0, learning_rate=0.5,\n",
       "       max_delta_step=0, max_depth=3, min_child_weight=1, missing=None,\n",
       "       n_estimators=50, n_jobs=8, nthread=None,\n",
       "       objective='binary:logistic', random_state=123, reg_alpha=3,\n",
       "       reg_lambda=1, scale_pos_weight=1, seed=None, silent=True,\n",
       "       subsample=0.7)"
      ]
     },
     "execution_count": 22,
     "metadata": {},
     "output_type": "execute_result"
    }
   ],
   "source": [
    "clf_search.best_estimator_"
   ]
  },
  {
   "cell_type": "code",
   "execution_count": 21,
   "metadata": {},
   "outputs": [
    {
     "data": {
      "text/plain": [
       "xgboost.sklearn.XGBClassifier"
      ]
     },
     "execution_count": 21,
     "metadata": {},
     "output_type": "execute_result"
    }
   ],
   "source": [
    "clf = XGBClassifier(max_depth=2,\n",
    "                    learning_rate = 0.5,\n",
    "                    n_estimators= 10,\n",
    "                    subsample= 0.5,\n",
    "                    n_jobs = 8,\n",
    "                          colsample_bytree = 0.7,\n",
    "#                           {'eval_metric': 'auc'},\n",
    "                          seed = 123,\n",
    "                         )"
   ]
  },
  {
   "cell_type": "code",
   "execution_count": null,
   "metadata": {
    "collapsed": true
   },
   "outputs": [],
   "source": [
    "XGBClassifier()"
   ]
  },
  {
   "cell_type": "code",
   "execution_count": 10,
   "metadata": {},
   "outputs": [
    {
     "data": {
      "image/png": "[encoded data removed]",
      "text/plain": [
       "<matplotlib.figure.Figure at 0x12c0bb588>"
      ]
     },
     "metadata": {},
     "output_type": "display_data"
    }
   ],
   "source": [
    "from plot_learning_curve import *\n",
    "from sklearn.model_selection import ShuffleSplit\n",
    "\n",
    "cv = ShuffleSplit(n_splits = 10, test_size = 0.3, random_state = 0)\n",
    "learning_curve = plot_learning_curve(clf,'curve',X, y,cv=cv, n_jobs=8)\n",
    "learning_curve.show()"
   ]
  },
  {
   "cell_type": "code",
   "execution_count": 17,
   "metadata": {},
   "outputs": [],
   "source": [
    "from sklearn2pmml import PMMLPipeline, FeatureUnion\n",
    "from tag_num import TagsNum\n",
    "from sklearn.feature_extraction.text import CountVectorizer\n",
    "from xgboost import XGBClassifier"
   ]
  },
  {
   "cell_type": "code",
   "execution_count": 11,
   "metadata": {
    "collapsed": true
   },
   "outputs": [],
   "source": [
    "\n",
    "pipeline = PMMLPipeline([\n",
    "    ('feature_engineer', FeatureUnion([\n",
    "        ('token', CountVectorizer()),\n",
    "        ('count', TagsNum())\n",
    "    ])),\n",
    "    ('clf', XGBClassifier(max_depth=2,\n",
    "                          learning_rate = 0.3,\n",
    "                          n_estimators= 10, \n",
    "                          subsample= 0.5, \n",
    "                          colsample_bytree = 0.8,\n",
    "                          eval_metric = 'auc',\n",
    "                          seed = 123,\n",
    "                         ))\n",
    "])"
   ]
  },
  {
   "cell_type": "code",
   "execution_count": 12,
   "metadata": {},
   "outputs": [
    {
     "data": {
      "text/plain": [
       "PMMLPipeline(steps=[('feature_engineer', FeatureUnion(n_jobs=1,\n",
       "       transformer_list=[('token', CountVectorizer(analyzer='word', binary=False, decode_error='strict',\n",
       "        dtype=<class 'numpy.int64'>, encoding='utf-8', input='content',\n",
       "        lowercase=True, max_df=1.0, max_features=None, min_df=1,\n",
       "        ngram_range=(1, 1), preprocessor=None, stop_words=None,\n",
       "        strip_accents=None, token_pattern='(?u)\\\\b\\\\w\\\\w+\\\\b',\n",
       "        tokenizer=None, vocabulary=None)), ('count', TagsNum())],\n",
       "       transformer_weights=None)),\n",
       "       ('clf', XGBClassifier(base_score=0.5, booster='gbtree', colsample_bylevel=1,\n",
       "       colsample_bytree=0.8, eval_metric='auc', gamma=0, learning_rate=0.3,\n",
       "       max_delta_step=0, max_depth=2, min_child_weight=1, missing=None,\n",
       "       n_estimators=10, n_jobs=1, nthread=None,\n",
       "       objective='binary:logistic', random_state=0, reg_alpha=0,\n",
       "       reg_lambda=1, scale_pos_weight=1, seed=123, silent=True,\n",
       "       subsample=0.5))])"
      ]
     },
     "execution_count": 12,
     "metadata": {},
     "output_type": "execute_result"
    }
   ],
   "source": [
    "pipeline.fit(train['tags'], train['is_reg'])"
   ]
  },
  {
   "cell_type": "code",
   "execution_count": 13,
   "metadata": {},
   "outputs": [
    {
     "data": {
      "text/plain": [
       "0.74930061165581141"
      ]
     },
     "execution_count": 13,
     "metadata": {},
     "output_type": "execute_result"
    }
   ],
   "source": [
    "from sklearn.metrics import roc_auc_score\n",
    "\n",
    "y_pred = pipeline.predict_proba(train['tags'])[:,1]\n",
    "roc_auc_score(train['is_reg'],y_pred)"
   ]
  },
  {
   "cell_type": "code",
   "execution_count": 38,
   "metadata": {
    "collapsed": true,
    "scrolled": true
   },
   "outputs": [],
   "source": [
    "from sklearn2pmml import sklearn2pmml\n",
    "\n",
    "# sklearn2pmml(pipeline, 'xgb.pmml', debug= True)"
   ]
  },
  {
   "cell_type": "code",
   "execution_count": 28,
   "metadata": {},
   "outputs": [
    {
     "name": "stderr",
     "output_type": "stream",
     "text": [
      "/Users/LGB/anaconda/lib/python3.6/site-packages/ipykernel_launcher.py:2: SettingWithCopyWarning: \n",
      "A value is trying to be set on a copy of a slice from a DataFrame\n",
      "\n",
      "See the caveats in the documentation: http://pandas.pydata.org/pandas-docs/stable/indexing.html#indexing-view-versus-copy\n",
      "  \n",
      "/Users/LGB/anaconda/lib/python3.6/site-packages/ipykernel_launcher.py:3: SettingWithCopyWarning: \n",
      "A value is trying to be set on a copy of a slice from a DataFrame\n",
      "\n",
      "See the caveats in the documentation: http://pandas.pydata.org/pandas-docs/stable/indexing.html#indexing-view-versus-copy\n",
      "  This is separate from the ipykernel package so we can avoid doing imports until\n"
     ]
    }
   ],
   "source": [
    "test = pd.read_csv('cheetah_12221722.csv')\n",
    "test['a60'][test['a60'] != 1.] = 0\n",
    "test['a40'][test['a40'] != 1.] = 0"
   ]
  },
  {
   "cell_type": "code",
   "execution_count": 15,
   "metadata": {},
   "outputs": [
    {
     "data": {
      "text/plain": [
       "(0.50807088933259004, 0.57392856804262504)"
      ]
     },
     "execution_count": 15,
     "metadata": {},
     "output_type": "execute_result"
    }
   ],
   "source": [
    "from sklearn.metrics import roc_auc_score\n",
    "\n",
    "y_pred = pipeline.predict_proba(test['tags'])[:,1]\n",
    "roc_auc_score(test['a40'],y_pred), roc_auc_score(test['a60'],y_pred)"
   ]
  },
  {
   "cell_type": "code",
   "execution_count": 55,
   "metadata": {},
   "outputs": [
    {
     "data": {
      "text/plain": [
       "0.51096689111936833"
      ]
     },
     "execution_count": 55,
     "metadata": {},
     "output_type": "execute_result"
    }
   ],
   "source": [
    "test_features = combined_feature.transform(test['tags'])\n",
    "X_test = test_features.toarray()\n",
    "y = test['a40']\n",
    "test_pred = clf.predict_proba(X_test)[:,1]\n",
    "roc_auc_score(test['a40'],test_pred)"
   ]
  },
  {
   "cell_type": "code",
   "execution_count": 56,
   "metadata": {},
   "outputs": [
    {
     "data": {
      "text/plain": [
       "0.58009851580424354"
      ]
     },
     "execution_count": 56,
     "metadata": {},
     "output_type": "execute_result"
    }
   ],
   "source": [
    "test_features = combined_feature.transform(test['tags'])\n",
    "X_test = test_features.toarray()\n",
    "y = test['a60']\n",
    "test_pred = clf.predict_proba(X_test)[:,1]\n",
    "roc_auc_score(test['a60'],test_pred)"
   ]
  },
  {
   "cell_type": "code",
   "execution_count": null,
   "metadata": {
    "collapsed": true
   },
   "outputs": [],
   "source": []
  }
 ],
 "metadata": {
  "kernelspec": {
   "display_name": "Python 3",
   "language": "python",
   "name": "python3"
  },
  "language_info": {
   "codemirror_mode": {
    "name": "ipython",
    "version": 3
   },
   "file_extension": ".py",
   "mimetype": "text/x-python",
   "name": "python",
   "nbconvert_exporter": "python",
   "pygments_lexer": "ipython3",
   "version": "3.6.1"
  }
 },
 "nbformat": 4,
 "nbformat_minor": 2
}
