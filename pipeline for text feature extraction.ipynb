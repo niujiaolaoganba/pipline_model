{
 "cells": [
  {
   "cell_type": "code",
   "execution_count": null,
   "metadata": {
    "collapsed": true
   },
   "outputs": [],
   "source": []
  },
  {
   "cell_type": "code",
   "execution_count": 3,
   "metadata": {
    "collapsed": true
   },
   "outputs": [],
   "source": [
    "from sklearn.feature_extraction.text import CountVectorizer"
   ]
  },
  {
   "cell_type": "code",
   "execution_count": 4,
   "metadata": {
    "collapsed": true
   },
   "outputs": [],
   "source": [
    "from pprint import pprint"
   ]
  },
  {
   "cell_type": "code",
   "execution_count": 5,
   "metadata": {
    "collapsed": true
   },
   "outputs": [],
   "source": [
    "import time\n",
    "import logging\n",
    "from sklearn.datasets import fetch_20newsgroups\n",
    "from sklearn.feature_extraction.text import CountVectorizer, TfidfTransformer\n",
    "from sklearn.linear_model import SGDClassifier\n",
    "from sklearn.model_selection import GridSearchCV\n",
    "from sklearn.pipeline import Pipeline"
   ]
  },
  {
   "cell_type": "code",
   "execution_count": 6,
   "metadata": {},
   "outputs": [
    {
     "name": "stdout",
     "output_type": "stream",
     "text": [
      "Automatically created module for IPython interactive environment\n"
     ]
    }
   ],
   "source": [
    "print(__doc__)"
   ]
  },
  {
   "cell_type": "code",
   "execution_count": 7,
   "metadata": {
    "collapsed": true
   },
   "outputs": [],
   "source": [
    "logging.basicConfig(level = logging.INFO,\n",
    "                   format = '%(asctime)s %(levelname)s %(message)s')"
   ]
  },
  {
   "cell_type": "code",
   "execution_count": 27,
   "metadata": {
    "scrolled": true
   },
   "outputs": [
    {
     "name": "stderr",
     "output_type": "stream",
     "text": [
      "2017-12-23 15:05:48,031 INFO Downloading 20news dataset. This may take a few minutes.\n",
      "2017-12-23 15:05:48,032 WARNING Download was incomplete, downloading again.\n",
      "2017-12-23 15:05:48,034 WARNING Downloading dataset from http://people.csail.mit.edu/jrennie/20Newsgroups/20news-bydate.tar.gz (14 MB)\n",
      "2017-12-23 15:43:45,011 INFO Decompressing /Users/LGB/scikit_learn_data/20news_home/20news-bydate.tar.gz\n"
     ]
    }
   ],
   "source": [
    "categories = ['alt.atheism', 'talk.religion.misc']\n",
    "data = fetch_20newsgroups(categories = categories)"
   ]
  },
  {
   "cell_type": "code",
   "execution_count": 35,
   "metadata": {
    "collapsed": true
   },
   "outputs": [],
   "source": [
    "pipeline = Pipeline([('vect', CountVectorizer()),\n",
    "                    ('tfidf', TfidfTransformer()),\n",
    "                    ('clf', SGDClassifier())])\n",
    "params = {\n",
    "    'vect__max_df': (0.5, 0.75, 1.0),\n",
    "#     'vect__max_feature': (None, 5000, 10000, 50000),\n",
    "    'vect__ngram_range': ((1, 1), (1, 2)),\n",
    "#     'tfidf__use_idf': (True, False),\n",
    "#     'tfidf__norm': ('l1', 'l2'),\n",
    "    'clf__alpha': (0.00001, 0.000001),\n",
    "    'clf__penalty': ('l2', 'elasticnet'),\n",
    "#     'clf__n_iter': (10, 50, 80),\n",
    "}\n",
    "\n"
   ]
  },
  {
   "cell_type": "code",
   "execution_count": 36,
   "metadata": {
    "collapsed": true
   },
   "outputs": [],
   "source": [
    "grid_search = GridSearchCV(pipeline, params, n_jobs = 4, verbose = 1)"
   ]
  },
  {
   "cell_type": "code",
   "execution_count": 37,
   "metadata": {},
   "outputs": [
    {
     "name": "stdout",
     "output_type": "stream",
     "text": [
      "{'clf__alpha': (1e-05, 1e-06),\n",
      " 'clf__penalty': ('l2', 'elasticnet'),\n",
      " 'vect__max_df': (0.5, 0.75, 1.0),\n",
      " 'vect__ngram_range': ((1, 1), (1, 2))}\n"
     ]
    }
   ],
   "source": [
    "pprint(params)"
   ]
  },
  {
   "cell_type": "code",
   "execution_count": 38,
   "metadata": {},
   "outputs": [
    {
     "name": "stdout",
     "output_type": "stream",
     "text": [
      "Fitting 3 folds for each of 24 candidates, totalling 72 fits\n"
     ]
    },
    {
     "name": "stderr",
     "output_type": "stream",
     "text": [
      "[Parallel(n_jobs=4)]: Done  42 tasks      | elapsed:   13.4s\n",
      "[Parallel(n_jobs=4)]: Done  72 out of  72 | elapsed:   22.1s finished\n"
     ]
    },
    {
     "data": {
      "text/plain": [
       "GridSearchCV(cv=None, error_score='raise',\n",
       "       estimator=Pipeline(steps=[('vect', CountVectorizer(analyzer='word', binary=False, decode_error='strict',\n",
       "        dtype=<class 'numpy.int64'>, encoding='utf-8', input='content',\n",
       "        lowercase=True, max_df=1.0, max_features=None, min_df=1,\n",
       "        ngram_range=(1, 1), preprocessor=None, stop_words=None,\n",
       "        strip...   penalty='l2', power_t=0.5, random_state=None, shuffle=True,\n",
       "       verbose=0, warm_start=False))]),\n",
       "       fit_params={}, iid=True, n_jobs=4,\n",
       "       param_grid={'vect__max_df': (0.5, 0.75, 1.0), 'vect__ngram_range': ((1, 1), (1, 2)), 'clf__alpha': (1e-05, 1e-06), 'clf__penalty': ('l2', 'elasticnet')},\n",
       "       pre_dispatch='2*n_jobs', refit=True, return_train_score=True,\n",
       "       scoring=None, verbose=1)"
      ]
     },
     "execution_count": 38,
     "metadata": {},
     "output_type": "execute_result"
    }
   ],
   "source": [
    "grid_search.fit(data.data, data.target)"
   ]
  },
  {
   "cell_type": "code",
   "execution_count": 39,
   "metadata": {},
   "outputs": [
    {
     "data": {
      "text/plain": [
       "(0.94049008168028003,\n",
       " {'clf': SGDClassifier(alpha=1e-05, average=False, class_weight=None, epsilon=0.1,\n",
       "         eta0=0.0, fit_intercept=True, l1_ratio=0.15,\n",
       "         learning_rate='optimal', loss='hinge', n_iter=5, n_jobs=1,\n",
       "         penalty='elasticnet', power_t=0.5, random_state=None, shuffle=True,\n",
       "         verbose=0, warm_start=False),\n",
       "  'clf__alpha': 1e-05,\n",
       "  'clf__average': False,\n",
       "  'clf__class_weight': None,\n",
       "  'clf__epsilon': 0.1,\n",
       "  'clf__eta0': 0.0,\n",
       "  'clf__fit_intercept': True,\n",
       "  'clf__l1_ratio': 0.15,\n",
       "  'clf__learning_rate': 'optimal',\n",
       "  'clf__loss': 'hinge',\n",
       "  'clf__n_iter': 5,\n",
       "  'clf__n_jobs': 1,\n",
       "  'clf__penalty': 'elasticnet',\n",
       "  'clf__power_t': 0.5,\n",
       "  'clf__random_state': None,\n",
       "  'clf__shuffle': True,\n",
       "  'clf__verbose': 0,\n",
       "  'clf__warm_start': False,\n",
       "  'steps': [('vect',\n",
       "    CountVectorizer(analyzer='word', binary=False, decode_error='strict',\n",
       "            dtype=<class 'numpy.int64'>, encoding='utf-8', input='content',\n",
       "            lowercase=True, max_df=0.75, max_features=None, min_df=1,\n",
       "            ngram_range=(1, 2), preprocessor=None, stop_words=None,\n",
       "            strip_accents=None, token_pattern='(?u)\\\\b\\\\w\\\\w+\\\\b',\n",
       "            tokenizer=None, vocabulary=None)),\n",
       "   ('tfidf',\n",
       "    TfidfTransformer(norm='l2', smooth_idf=True, sublinear_tf=False, use_idf=True)),\n",
       "   ('clf',\n",
       "    SGDClassifier(alpha=1e-05, average=False, class_weight=None, epsilon=0.1,\n",
       "           eta0=0.0, fit_intercept=True, l1_ratio=0.15,\n",
       "           learning_rate='optimal', loss='hinge', n_iter=5, n_jobs=1,\n",
       "           penalty='elasticnet', power_t=0.5, random_state=None, shuffle=True,\n",
       "           verbose=0, warm_start=False))],\n",
       "  'tfidf': TfidfTransformer(norm='l2', smooth_idf=True, sublinear_tf=False, use_idf=True),\n",
       "  'tfidf__norm': 'l2',\n",
       "  'tfidf__smooth_idf': True,\n",
       "  'tfidf__sublinear_tf': False,\n",
       "  'tfidf__use_idf': True,\n",
       "  'vect': CountVectorizer(analyzer='word', binary=False, decode_error='strict',\n",
       "          dtype=<class 'numpy.int64'>, encoding='utf-8', input='content',\n",
       "          lowercase=True, max_df=0.75, max_features=None, min_df=1,\n",
       "          ngram_range=(1, 2), preprocessor=None, stop_words=None,\n",
       "          strip_accents=None, token_pattern='(?u)\\\\b\\\\w\\\\w+\\\\b',\n",
       "          tokenizer=None, vocabulary=None),\n",
       "  'vect__analyzer': 'word',\n",
       "  'vect__binary': False,\n",
       "  'vect__decode_error': 'strict',\n",
       "  'vect__dtype': numpy.int64,\n",
       "  'vect__encoding': 'utf-8',\n",
       "  'vect__input': 'content',\n",
       "  'vect__lowercase': True,\n",
       "  'vect__max_df': 0.75,\n",
       "  'vect__max_features': None,\n",
       "  'vect__min_df': 1,\n",
       "  'vect__ngram_range': (1, 2),\n",
       "  'vect__preprocessor': None,\n",
       "  'vect__stop_words': None,\n",
       "  'vect__strip_accents': None,\n",
       "  'vect__token_pattern': '(?u)\\\\b\\\\w\\\\w+\\\\b',\n",
       "  'vect__tokenizer': None,\n",
       "  'vect__vocabulary': None})"
      ]
     },
     "execution_count": 39,
     "metadata": {},
     "output_type": "execute_result"
    }
   ],
   "source": [
    "grid_search.best_score_, grid_search.best_estimator_.get_params()"
   ]
  },
  {
   "cell_type": "code",
   "execution_count": null,
   "metadata": {
    "collapsed": true
   },
   "outputs": [],
   "source": []
  }
 ],
 "metadata": {
  "kernelspec": {
   "display_name": "Python 3",
   "language": "python",
   "name": "python3"
  },
  "language_info": {
   "codemirror_mode": {
    "name": "ipython",
    "version": 3
   },
   "file_extension": ".py",
   "mimetype": "text/x-python",
   "name": "python",
   "nbconvert_exporter": "python",
   "pygments_lexer": "ipython3",
   "version": "3.6.1"
  }
 },
 "nbformat": 4,
 "nbformat_minor": 2
}
